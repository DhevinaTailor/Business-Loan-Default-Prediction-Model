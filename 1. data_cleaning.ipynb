{
 "cells": [
  {
   "cell_type": "markdown",
   "id": "7f79900c",
   "metadata": {},
   "source": [
    "---\n",
    "# Predictive Business Loan Default Analysis Model\n",
    "---"
   ]
  },
  {
   "cell_type": "markdown",
   "id": "7a0b6d02",
   "metadata": {},
   "source": [
    "**Author**: Dhevina Tailor\n",
    "\n",
    "**Contact**: [dhevinatailor@gmail.com](mailto:dhevinatailor@gmail.com)\n",
    "\n",
    "**Date**: October 20, 2023"
   ]
  },
  {
   "cell_type": "markdown",
   "id": "e12bcb59",
   "metadata": {},
   "source": [
    "## Table of Contents\n",
    "---\n",
    "1. [Introduction: Data Cleaning](#introduction)\n",
    "2. [Key Questions](#keyquestions)\n",
    "3. [Feature Overview](#featureoverview)\n",
    "4. [Loading and Setup](#loadingandsetup)\n",
    "5. [Assessment](#assessment)\n",
    "6. [Cleaning](#cleaning)\n",
    "7. [Feature Handling Strategies to Mitigate Data Leakage](#features)\n",
    "8. [Saving the Data](#saving)"
   ]
  },
  {
   "cell_type": "markdown",
   "id": "42876b08",
   "metadata": {},
   "source": [
    "## Introduction: Data Cleaning <a class=\"anchor\" id=\"introduction\"></a>\n",
    "---\n",
    "\n",
    "Before embarking on the analysis phase, it's imperative to ensure that our dataset is in optimal condition. Data cleaning is a critical step in this process. Conducting a first pass over my data to identify data quality issues, feature engineering opportunities and any other notable observations regarding data preprocessing.\n",
    "\n",
    "**Refining the Raw Data:**\n",
    "Our initial dataset may contain inconsistencies, missing values, or outliers. To prepare it for analysis, we'll meticulously clean the data. This includes addressing missing values, removing duplicates, and standardizing formats.\n",
    "\n",
    "**Ensuring Data Integrity:**\n",
    "A clean dataset is the foundation for reliable and accurate analysis. We'll take steps to ensure data integrity and consistency, allowing us to draw meaningful conclusions in the subsequent analysis phase.\n"
   ]
  },
  {
   "cell_type": "markdown",
   "id": "9116e904",
   "metadata": {},
   "source": [
    "## Key Questions <a class=\"anchor\" id=\"keyquestions\"></a>\n",
    "---\n",
    "\n",
    "#### The analysis aims to answer these fundamental questions:\n",
    "\n",
    "**Using machine learning, how might we accurately predict the future status of a business loan payment (paid or default), to improve risk management and reduce financial losses?**\n",
    "\n",
    "This question serves as the foundation for the analysis, guiding us in the exploration of the loan dataset derived from the Small Business Administration (SBA).\n",
    "\n",
    "**Specifically tailored to our loan default dataset, we will address the following key factors:**\n",
    "\n",
    "1. **Data Quality:** Inconsistencies, missing values, or outliers in the dataset that could affect the accuracy of our loan default prediction model.\n",
    "2. **Data Integrity:** Ensure the data's integrity and consistency throughout the analysis process, particularly in the context of loan default analysis?\n",
    "3. **Data Preparation:** Steps required to refine and prepare the dataset for robust loan default prediction and in-depth analysis?\n",
    "\n",
    "These key questions collectively shape our data cleaning and analysis efforts, ensuring that the loan default dataset is ready for the development of an effective loan default prediction model."
   ]
  },
  {
   "cell_type": "markdown",
   "id": "5a48d698",
   "metadata": {},
   "source": [
    "## Feature Overview <a class=\"anchor\" id=\"featureoverview\"></a>\n",
    "---"
   ]
  },
  {
   "cell_type": "markdown",
   "id": "6e6675a7",
   "metadata": {},
   "source": [
    "<style>\n",
    "  table {\n",
    "    width: 100%;\n",
    "    border-collapse: collapse;\n",
    "  }\n",
    "\n",
    "  th, td {\n",
    "    border: 1px solid black;\n",
    "    padding: 8px;\n",
    "    text-align: left;\n",
    "  }\n",
    "\n",
    "  th {\n",
    "    background-color: #f2f2f2;\n",
    "    font-weight: bold;\n",
    "  }\n",
    "</style>\n",
    "\n",
    "| **#** | **Variable Name**    | **Description**                                        |\n",
    "|-------|----------------------|--------------------------------------------------------|\n",
    "| **1** | LoanNr_ChkDgt        | Identifier Primary key                                 |\n",
    "| **2** | Name                 | Borrower name                                         |\n",
    "| **3** | City                 | Borrower city                                         |\n",
    "| **4** | State                | Borrower state                                        |\n",
    "| **5** | Zip                  | Borrower zip code                                     |\n",
    "| **6** | Bank                 | Bank name                                             |\n",
    "| **7** | BankState            | Bank state                                            |\n",
    "| **8** | NAICS                | North American industry classification system code   |\n",
    "| **9** | ApprovalDate         | Date SBA commitment issued                            |\n",
    "| **10** | ApprovalFY           | Fiscal year of commitment                             |\n",
    "| **11** | Term                 | Loan term in months                                   |\n",
    "| **12** | NoEmp                | Number of business employees                          |\n",
    "| **13** | NewExist             | 1 = Existing business, 2 = New business               |\n",
    "| **14** | CreateJob            | Number of jobs created                                |\n",
    "| **15** | RetainedJob          | Number of jobs retained                               |\n",
    "| **16** | FranchiseCode        | Franchise code, (00000 or 00001) = No franchise       |\n",
    "| **17** | UrbanRural           | 1 = Urban, 2 = rural, 0 = undefined                   |\n",
    "| **18** | RevLineCr            | Revolving line of credit: Y = Yes, N = No, 0 = undefined|\n",
    "| **19** | LowDoc               | LowDoc Loan Program: Y = Yes, N = No                 |\n",
    "| **20** | ChgOffDate           | The date when a loan is declared to be in default    |\n",
    "| **21** | DisbursementDate     | Disbursement date                                     |\n",
    "| **22** | DisbursementGross    | Amount disbursed                                      |\n",
    "| **23** | BalanceGross         | Gross amount outstanding                              |\n",
    "| **24** | MIS_Status           | Loan status charged off = CHGOFF, Paid in full =PIF |\n",
    "| **25** | ChgOffPrinGr         | Charged-off amount                                    |\n",
    "| **26** | GrAppv               | Gross amount of loan approved by bank                |\n",
    "| **27** | SBA_Appv             | SBA’s guaranteed amount of approved loan              |\n",
    "\n"
   ]
  },
  {
   "cell_type": "markdown",
   "id": "c8b6b2c2",
   "metadata": {},
   "source": [
    "Description of the first two digits of NAICS."
   ]
  },
  {
   "cell_type": "markdown",
   "id": "a7fd6676",
   "metadata": {},
   "source": [
    "<style>\n",
    "  table {\n",
    "    width: 100%;\n",
    "    border-collapse: collapse;\n",
    "  }\n",
    "\n",
    "  th {\n",
    "    border: 1px solid black;\n",
    "    padding: 8px;\n",
    "    text-align: left;\n",
    "    background-color: #f2f2f2;\n",
    "    font-weight: bold;\n",
    "  }\n",
    "</style>\n",
    "\n",
    "| **Sector** | **Description**                                           |\n",
    "|------------|-----------------------------------------------------------|\n",
    "| 11         | Agriculture, forestry, fishing, and hunting                |\n",
    "| 21         | Mining, quarrying, and oil and gas extraction             |\n",
    "| 22         | Utilities                                                  |\n",
    "| 23         | Construction                                               |\n",
    "| 31–33      | Manufacturing                                              |\n",
    "| 42         | Wholesale trade                                            |\n",
    "| 44–45      | Retail trade                                               |\n",
    "| 48–49      | Transportation and warehousing                            |\n",
    "| 51         | Information                                                |\n",
    "| 52         | Finance and insurance                                      |\n",
    "| 53         | Real estate and rental and leasing                         |\n",
    "| 54         | Professional, scientific, and technical services           |\n",
    "| 55         | Management of companies and enterprises                    |\n",
    "| 56         | Administrative and support and waste management and remediation services |\n",
    "| 61         | Educational services                                       |\n",
    "| 62         | Health care and social assistance                          |\n",
    "| 71         | Arts, entertainment, and recreation                        |\n",
    "| 72         | Accommodation and food services                            |\n",
    "| 81         | Other services (except public administration)              |\n",
    "| 92         | Public administration                                      |\n"
   ]
  },
  {
   "cell_type": "markdown",
   "id": "c4dd9230",
   "metadata": {},
   "source": [
    "## Loading and Setup <a class=\"anchor\" id=\"loadingandsetup\"></a>"
   ]
  },
  {
   "cell_type": "code",
   "execution_count": 1,
   "id": "adc6a2ac",
   "metadata": {},
   "outputs": [],
   "source": [
    "# importing required library\n",
    "import pandas as pd"
   ]
  },
  {
   "cell_type": "markdown",
   "id": "438d522e",
   "metadata": {},
   "source": [
    "### Get Data"
   ]
  },
  {
   "cell_type": "code",
   "execution_count": 2,
   "id": "aba055a5",
   "metadata": {},
   "outputs": [
    {
     "name": "stderr",
     "output_type": "stream",
     "text": [
      "/var/folders/2j/c8kl0vnx1cd5zbnyjj5331fw0000gn/T/ipykernel_93264/24265492.py:2: DtypeWarning: Columns (9) have mixed types. Specify dtype option on import or set low_memory=False.\n",
      "  df = pd.read_csv(\"SBAnational.csv\")\n"
     ]
    }
   ],
   "source": [
    "# Load the dataset\n",
    "df = pd.read_csv(\"SBAnational.csv\")"
   ]
  },
  {
   "cell_type": "code",
   "execution_count": 3,
   "id": "e5676923",
   "metadata": {},
   "outputs": [],
   "source": [
    "# Create a dictionary to store column names and descriptions\n",
    "column_descriptions = {\n",
    "    'LoanNr_ChkDgt': 'Identifier Primary key',\n",
    "    'Name': 'Borrower name',\n",
    "    'City': 'Borrower city',\n",
    "    'State': 'Borrower state',\n",
    "    'Zip': 'Borrower zip code',\n",
    "    'Bank': 'Bank name',\n",
    "    'BankState': 'Bank state',\n",
    "    'NAICS': 'North American industry classification system code',\n",
    "    'ApprovalDate': 'Date SBA commitment issued',\n",
    "    'ApprovalFY': 'Fiscal year of commitment',\n",
    "    'Term': 'Loan term in months',\n",
    "    'NoEmp': 'Number of business employees',\n",
    "    'NewExist': '1 = Existing business, 2 = New business',\n",
    "    'CreateJob': 'Number of jobs created',\n",
    "    'RetainedJob': 'Number of jobs retained',\n",
    "    'FranchiseCode': 'Franchise code, (00000 or 00001) = No franchise',\n",
    "    'UrbanRural': '1 = Urban, 2 = rural, 0 = undefined',\n",
    "    'RevLineCr': 'Revolving line of credit: Y = Yes, N = No',\n",
    "    'LowDoc': 'LowDoc Loan Program: Y = Yes, N = No',\n",
    "    'ChgOffDate': 'The date when a loan is declared to be in default',\n",
    "    'DisbursementDate': 'Disbursement date',\n",
    "    'DisbursementGross': 'Amount disbursed',\n",
    "    'BalanceGross': 'Gross amount outstanding',\n",
    "    'MIS_Status': 'Loan status charged off = CHGOFF, Paid in full = PIF',\n",
    "    'ChgOffPrinGr': 'Charged-off amount',\n",
    "    'GrAppv': 'Gross amount of loan approved by the bank',\n",
    "    'SBA_Appv': \"SBA’s guaranteed amount of the approved loan\"\n",
    "}\n",
    "\n",
    "# Function to retrieve the description of a column\n",
    "def get_column_description(column_name):\n",
    "    return column_descriptions.get(column_name, 'Description not available for this column.')"
   ]
  },
  {
   "cell_type": "markdown",
   "id": "e5fdafb2",
   "metadata": {},
   "source": [
    "## Assessment <a class=\"anchor\" id=\"assessment\"></a>"
   ]
  },
  {
   "cell_type": "code",
   "execution_count": 4,
   "id": "ebb5b8ce",
   "metadata": {},
   "outputs": [],
   "source": [
    "# Set display options to show all columns and rows\n",
    "pd.set_option('display.max_columns', None)\n",
    "pd.set_option('display.max_rows', None)"
   ]
  },
  {
   "cell_type": "code",
   "execution_count": 5,
   "id": "d037ad6f",
   "metadata": {},
   "outputs": [
    {
     "data": {
      "text/plain": [
       "(899164, 27)"
      ]
     },
     "execution_count": 5,
     "metadata": {},
     "output_type": "execute_result"
    }
   ],
   "source": [
    "# Print the shape of the dataset\n",
    "df.shape"
   ]
  },
  {
   "cell_type": "code",
   "execution_count": 6,
   "id": "2779e2cf",
   "metadata": {},
   "outputs": [
    {
     "name": "stdout",
     "output_type": "stream",
     "text": [
      "There are 899164 rows and 27 columns in this dataset\n"
     ]
    }
   ],
   "source": [
    "print(f'There are {df.shape[0]} rows and {df.shape[1]} columns in this dataset')"
   ]
  },
  {
   "cell_type": "markdown",
   "id": "e24d786e",
   "metadata": {},
   "source": [
    "Next, we inspect the first rows of data to get a feel for the structure."
   ]
  },
  {
   "cell_type": "code",
   "execution_count": 7,
   "id": "d7ebd7f6",
   "metadata": {},
   "outputs": [
    {
     "data": {
      "text/html": [
       "<div>\n",
       "<style scoped>\n",
       "    .dataframe tbody tr th:only-of-type {\n",
       "        vertical-align: middle;\n",
       "    }\n",
       "\n",
       "    .dataframe tbody tr th {\n",
       "        vertical-align: top;\n",
       "    }\n",
       "\n",
       "    .dataframe thead th {\n",
       "        text-align: right;\n",
       "    }\n",
       "</style>\n",
       "<table border=\"1\" class=\"dataframe\">\n",
       "  <thead>\n",
       "    <tr style=\"text-align: right;\">\n",
       "      <th></th>\n",
       "      <th>LoanNr_ChkDgt</th>\n",
       "      <th>Name</th>\n",
       "      <th>City</th>\n",
       "      <th>State</th>\n",
       "      <th>Zip</th>\n",
       "      <th>Bank</th>\n",
       "      <th>BankState</th>\n",
       "      <th>NAICS</th>\n",
       "      <th>ApprovalDate</th>\n",
       "      <th>ApprovalFY</th>\n",
       "      <th>Term</th>\n",
       "      <th>NoEmp</th>\n",
       "      <th>NewExist</th>\n",
       "      <th>CreateJob</th>\n",
       "      <th>RetainedJob</th>\n",
       "      <th>FranchiseCode</th>\n",
       "      <th>UrbanRural</th>\n",
       "      <th>RevLineCr</th>\n",
       "      <th>LowDoc</th>\n",
       "      <th>ChgOffDate</th>\n",
       "      <th>DisbursementDate</th>\n",
       "      <th>DisbursementGross</th>\n",
       "      <th>BalanceGross</th>\n",
       "      <th>MIS_Status</th>\n",
       "      <th>ChgOffPrinGr</th>\n",
       "      <th>GrAppv</th>\n",
       "      <th>SBA_Appv</th>\n",
       "    </tr>\n",
       "  </thead>\n",
       "  <tbody>\n",
       "    <tr>\n",
       "      <th>0</th>\n",
       "      <td>1000014003</td>\n",
       "      <td>ABC HOBBYCRAFT</td>\n",
       "      <td>EVANSVILLE</td>\n",
       "      <td>IN</td>\n",
       "      <td>47711</td>\n",
       "      <td>FIFTH THIRD BANK</td>\n",
       "      <td>OH</td>\n",
       "      <td>451120</td>\n",
       "      <td>28-Feb-97</td>\n",
       "      <td>1997</td>\n",
       "      <td>84</td>\n",
       "      <td>4</td>\n",
       "      <td>2.0</td>\n",
       "      <td>0</td>\n",
       "      <td>0</td>\n",
       "      <td>1</td>\n",
       "      <td>0</td>\n",
       "      <td>N</td>\n",
       "      <td>Y</td>\n",
       "      <td>NaN</td>\n",
       "      <td>28-Feb-99</td>\n",
       "      <td>$60,000.00</td>\n",
       "      <td>$0.00</td>\n",
       "      <td>P I F</td>\n",
       "      <td>$0.00</td>\n",
       "      <td>$60,000.00</td>\n",
       "      <td>$48,000.00</td>\n",
       "    </tr>\n",
       "    <tr>\n",
       "      <th>1</th>\n",
       "      <td>1000024006</td>\n",
       "      <td>LANDMARK BAR &amp; GRILLE (THE)</td>\n",
       "      <td>NEW PARIS</td>\n",
       "      <td>IN</td>\n",
       "      <td>46526</td>\n",
       "      <td>1ST SOURCE BANK</td>\n",
       "      <td>IN</td>\n",
       "      <td>722410</td>\n",
       "      <td>28-Feb-97</td>\n",
       "      <td>1997</td>\n",
       "      <td>60</td>\n",
       "      <td>2</td>\n",
       "      <td>2.0</td>\n",
       "      <td>0</td>\n",
       "      <td>0</td>\n",
       "      <td>1</td>\n",
       "      <td>0</td>\n",
       "      <td>N</td>\n",
       "      <td>Y</td>\n",
       "      <td>NaN</td>\n",
       "      <td>31-May-97</td>\n",
       "      <td>$40,000.00</td>\n",
       "      <td>$0.00</td>\n",
       "      <td>P I F</td>\n",
       "      <td>$0.00</td>\n",
       "      <td>$40,000.00</td>\n",
       "      <td>$32,000.00</td>\n",
       "    </tr>\n",
       "    <tr>\n",
       "      <th>2</th>\n",
       "      <td>1000034009</td>\n",
       "      <td>WHITLOCK DDS, TODD M.</td>\n",
       "      <td>BLOOMINGTON</td>\n",
       "      <td>IN</td>\n",
       "      <td>47401</td>\n",
       "      <td>GRANT COUNTY STATE BANK</td>\n",
       "      <td>IN</td>\n",
       "      <td>621210</td>\n",
       "      <td>28-Feb-97</td>\n",
       "      <td>1997</td>\n",
       "      <td>180</td>\n",
       "      <td>7</td>\n",
       "      <td>1.0</td>\n",
       "      <td>0</td>\n",
       "      <td>0</td>\n",
       "      <td>1</td>\n",
       "      <td>0</td>\n",
       "      <td>N</td>\n",
       "      <td>N</td>\n",
       "      <td>NaN</td>\n",
       "      <td>31-Dec-97</td>\n",
       "      <td>$287,000.00</td>\n",
       "      <td>$0.00</td>\n",
       "      <td>P I F</td>\n",
       "      <td>$0.00</td>\n",
       "      <td>$287,000.00</td>\n",
       "      <td>$215,250.00</td>\n",
       "    </tr>\n",
       "    <tr>\n",
       "      <th>3</th>\n",
       "      <td>1000044001</td>\n",
       "      <td>BIG BUCKS PAWN &amp; JEWELRY, LLC</td>\n",
       "      <td>BROKEN ARROW</td>\n",
       "      <td>OK</td>\n",
       "      <td>74012</td>\n",
       "      <td>1ST NATL BK &amp; TR CO OF BROKEN</td>\n",
       "      <td>OK</td>\n",
       "      <td>0</td>\n",
       "      <td>28-Feb-97</td>\n",
       "      <td>1997</td>\n",
       "      <td>60</td>\n",
       "      <td>2</td>\n",
       "      <td>1.0</td>\n",
       "      <td>0</td>\n",
       "      <td>0</td>\n",
       "      <td>1</td>\n",
       "      <td>0</td>\n",
       "      <td>N</td>\n",
       "      <td>Y</td>\n",
       "      <td>NaN</td>\n",
       "      <td>30-Jun-97</td>\n",
       "      <td>$35,000.00</td>\n",
       "      <td>$0.00</td>\n",
       "      <td>P I F</td>\n",
       "      <td>$0.00</td>\n",
       "      <td>$35,000.00</td>\n",
       "      <td>$28,000.00</td>\n",
       "    </tr>\n",
       "    <tr>\n",
       "      <th>4</th>\n",
       "      <td>1000054004</td>\n",
       "      <td>ANASTASIA CONFECTIONS, INC.</td>\n",
       "      <td>ORLANDO</td>\n",
       "      <td>FL</td>\n",
       "      <td>32801</td>\n",
       "      <td>FLORIDA BUS. DEVEL CORP</td>\n",
       "      <td>FL</td>\n",
       "      <td>0</td>\n",
       "      <td>28-Feb-97</td>\n",
       "      <td>1997</td>\n",
       "      <td>240</td>\n",
       "      <td>14</td>\n",
       "      <td>1.0</td>\n",
       "      <td>7</td>\n",
       "      <td>7</td>\n",
       "      <td>1</td>\n",
       "      <td>0</td>\n",
       "      <td>N</td>\n",
       "      <td>N</td>\n",
       "      <td>NaN</td>\n",
       "      <td>14-May-97</td>\n",
       "      <td>$229,000.00</td>\n",
       "      <td>$0.00</td>\n",
       "      <td>P I F</td>\n",
       "      <td>$0.00</td>\n",
       "      <td>$229,000.00</td>\n",
       "      <td>$229,000.00</td>\n",
       "    </tr>\n",
       "  </tbody>\n",
       "</table>\n",
       "</div>"
      ],
      "text/plain": [
       "   LoanNr_ChkDgt                           Name          City State    Zip  \\\n",
       "0     1000014003                 ABC HOBBYCRAFT    EVANSVILLE    IN  47711   \n",
       "1     1000024006    LANDMARK BAR & GRILLE (THE)     NEW PARIS    IN  46526   \n",
       "2     1000034009          WHITLOCK DDS, TODD M.   BLOOMINGTON    IN  47401   \n",
       "3     1000044001  BIG BUCKS PAWN & JEWELRY, LLC  BROKEN ARROW    OK  74012   \n",
       "4     1000054004    ANASTASIA CONFECTIONS, INC.       ORLANDO    FL  32801   \n",
       "\n",
       "                            Bank BankState   NAICS ApprovalDate ApprovalFY  \\\n",
       "0               FIFTH THIRD BANK        OH  451120    28-Feb-97       1997   \n",
       "1                1ST SOURCE BANK        IN  722410    28-Feb-97       1997   \n",
       "2        GRANT COUNTY STATE BANK        IN  621210    28-Feb-97       1997   \n",
       "3  1ST NATL BK & TR CO OF BROKEN        OK       0    28-Feb-97       1997   \n",
       "4        FLORIDA BUS. DEVEL CORP        FL       0    28-Feb-97       1997   \n",
       "\n",
       "   Term  NoEmp  NewExist  CreateJob  RetainedJob  FranchiseCode  UrbanRural  \\\n",
       "0    84      4       2.0          0            0              1           0   \n",
       "1    60      2       2.0          0            0              1           0   \n",
       "2   180      7       1.0          0            0              1           0   \n",
       "3    60      2       1.0          0            0              1           0   \n",
       "4   240     14       1.0          7            7              1           0   \n",
       "\n",
       "  RevLineCr LowDoc ChgOffDate DisbursementDate DisbursementGross BalanceGross  \\\n",
       "0         N      Y        NaN        28-Feb-99       $60,000.00        $0.00    \n",
       "1         N      Y        NaN        31-May-97       $40,000.00        $0.00    \n",
       "2         N      N        NaN        31-Dec-97      $287,000.00        $0.00    \n",
       "3         N      Y        NaN        30-Jun-97       $35,000.00        $0.00    \n",
       "4         N      N        NaN        14-May-97      $229,000.00        $0.00    \n",
       "\n",
       "  MIS_Status ChgOffPrinGr        GrAppv      SBA_Appv  \n",
       "0      P I F       $0.00    $60,000.00    $48,000.00   \n",
       "1      P I F       $0.00    $40,000.00    $32,000.00   \n",
       "2      P I F       $0.00   $287,000.00   $215,250.00   \n",
       "3      P I F       $0.00    $35,000.00    $28,000.00   \n",
       "4      P I F       $0.00   $229,000.00   $229,000.00   "
      ]
     },
     "execution_count": 7,
     "metadata": {},
     "output_type": "execute_result"
    }
   ],
   "source": [
    "# Print the first 5 rows of the dataset\n",
    "df.head()"
   ]
  },
  {
   "cell_type": "code",
   "execution_count": 8,
   "id": "e494772c",
   "metadata": {},
   "outputs": [
    {
     "name": "stdout",
     "output_type": "stream",
     "text": [
      "<class 'pandas.core.frame.DataFrame'>\n",
      "RangeIndex: 899164 entries, 0 to 899163\n",
      "Data columns (total 27 columns):\n",
      " #   Column             Non-Null Count   Dtype  \n",
      "---  ------             --------------   -----  \n",
      " 0   LoanNr_ChkDgt      899164 non-null  int64  \n",
      " 1   Name               899150 non-null  object \n",
      " 2   City               899134 non-null  object \n",
      " 3   State              899150 non-null  object \n",
      " 4   Zip                899164 non-null  int64  \n",
      " 5   Bank               897605 non-null  object \n",
      " 6   BankState          897598 non-null  object \n",
      " 7   NAICS              899164 non-null  int64  \n",
      " 8   ApprovalDate       899164 non-null  object \n",
      " 9   ApprovalFY         899164 non-null  object \n",
      " 10  Term               899164 non-null  int64  \n",
      " 11  NoEmp              899164 non-null  int64  \n",
      " 12  NewExist           899028 non-null  float64\n",
      " 13  CreateJob          899164 non-null  int64  \n",
      " 14  RetainedJob        899164 non-null  int64  \n",
      " 15  FranchiseCode      899164 non-null  int64  \n",
      " 16  UrbanRural         899164 non-null  int64  \n",
      " 17  RevLineCr          894636 non-null  object \n",
      " 18  LowDoc             896582 non-null  object \n",
      " 19  ChgOffDate         162699 non-null  object \n",
      " 20  DisbursementDate   896796 non-null  object \n",
      " 21  DisbursementGross  899164 non-null  object \n",
      " 22  BalanceGross       899164 non-null  object \n",
      " 23  MIS_Status         897167 non-null  object \n",
      " 24  ChgOffPrinGr       899164 non-null  object \n",
      " 25  GrAppv             899164 non-null  object \n",
      " 26  SBA_Appv           899164 non-null  object \n",
      "dtypes: float64(1), int64(9), object(17)\n",
      "memory usage: 185.2+ MB\n"
     ]
    }
   ],
   "source": [
    "# Display the info of the dataset\n",
    "df.info()"
   ]
  },
  {
   "cell_type": "code",
   "execution_count": 9,
   "id": "516e73e5",
   "metadata": {},
   "outputs": [
    {
     "data": {
      "text/plain": [
       "LoanNr_ChkDgt          int64\n",
       "Name                  object\n",
       "City                  object\n",
       "State                 object\n",
       "Zip                    int64\n",
       "Bank                  object\n",
       "BankState             object\n",
       "NAICS                  int64\n",
       "ApprovalDate          object\n",
       "ApprovalFY            object\n",
       "Term                   int64\n",
       "NoEmp                  int64\n",
       "NewExist             float64\n",
       "CreateJob              int64\n",
       "RetainedJob            int64\n",
       "FranchiseCode          int64\n",
       "UrbanRural             int64\n",
       "RevLineCr             object\n",
       "LowDoc                object\n",
       "ChgOffDate            object\n",
       "DisbursementDate      object\n",
       "DisbursementGross     object\n",
       "BalanceGross          object\n",
       "MIS_Status            object\n",
       "ChgOffPrinGr          object\n",
       "GrAppv                object\n",
       "SBA_Appv              object\n",
       "dtype: object"
      ]
     },
     "execution_count": 9,
     "metadata": {},
     "output_type": "execute_result"
    }
   ],
   "source": [
    "# Display the data types of the dataset\n",
    "df.dtypes"
   ]
  },
  {
   "cell_type": "code",
   "execution_count": 10,
   "id": "368e0474",
   "metadata": {},
   "outputs": [
    {
     "data": {
      "text/plain": [
       "LoanNr_ChkDgt        899164\n",
       "Name                 779583\n",
       "City                  32581\n",
       "State                    51\n",
       "Zip                   33611\n",
       "Bank                   5802\n",
       "BankState                56\n",
       "NAICS                  1312\n",
       "ApprovalDate           9859\n",
       "ApprovalFY               70\n",
       "Term                    412\n",
       "NoEmp                   599\n",
       "NewExist                  3\n",
       "CreateJob               246\n",
       "RetainedJob             358\n",
       "FranchiseCode          2768\n",
       "UrbanRural                3\n",
       "RevLineCr                18\n",
       "LowDoc                    8\n",
       "ChgOffDate             6448\n",
       "DisbursementDate       8472\n",
       "DisbursementGross    118859\n",
       "BalanceGross             15\n",
       "MIS_Status                2\n",
       "ChgOffPrinGr          83165\n",
       "GrAppv                22128\n",
       "SBA_Appv              38326\n",
       "dtype: int64"
      ]
     },
     "execution_count": 10,
     "metadata": {},
     "output_type": "execute_result"
    }
   ],
   "source": [
    "# Check the number of unique values in each column\n",
    "df.nunique()"
   ]
  },
  {
   "cell_type": "code",
   "execution_count": 11,
   "id": "b1456ad7",
   "metadata": {
    "scrolled": true
   },
   "outputs": [
    {
     "data": {
      "text/html": [
       "<div>\n",
       "<style scoped>\n",
       "    .dataframe tbody tr th:only-of-type {\n",
       "        vertical-align: middle;\n",
       "    }\n",
       "\n",
       "    .dataframe tbody tr th {\n",
       "        vertical-align: top;\n",
       "    }\n",
       "\n",
       "    .dataframe thead th {\n",
       "        text-align: right;\n",
       "    }\n",
       "</style>\n",
       "<table border=\"1\" class=\"dataframe\">\n",
       "  <thead>\n",
       "    <tr style=\"text-align: right;\">\n",
       "      <th></th>\n",
       "      <th>LoanNr_ChkDgt</th>\n",
       "      <th>Zip</th>\n",
       "      <th>NAICS</th>\n",
       "      <th>Term</th>\n",
       "      <th>NoEmp</th>\n",
       "      <th>NewExist</th>\n",
       "      <th>CreateJob</th>\n",
       "      <th>RetainedJob</th>\n",
       "      <th>FranchiseCode</th>\n",
       "      <th>UrbanRural</th>\n",
       "    </tr>\n",
       "  </thead>\n",
       "  <tbody>\n",
       "    <tr>\n",
       "      <th>count</th>\n",
       "      <td>8.991640e+05</td>\n",
       "      <td>899164.000000</td>\n",
       "      <td>899164.000000</td>\n",
       "      <td>899164.000000</td>\n",
       "      <td>899164.000000</td>\n",
       "      <td>899028.000000</td>\n",
       "      <td>899164.000000</td>\n",
       "      <td>899164.000000</td>\n",
       "      <td>899164.000000</td>\n",
       "      <td>899164.000000</td>\n",
       "    </tr>\n",
       "    <tr>\n",
       "      <th>mean</th>\n",
       "      <td>4.772612e+09</td>\n",
       "      <td>53804.391241</td>\n",
       "      <td>398660.950146</td>\n",
       "      <td>110.773078</td>\n",
       "      <td>11.411353</td>\n",
       "      <td>1.280404</td>\n",
       "      <td>8.430376</td>\n",
       "      <td>10.797257</td>\n",
       "      <td>2753.725933</td>\n",
       "      <td>0.757748</td>\n",
       "    </tr>\n",
       "    <tr>\n",
       "      <th>std</th>\n",
       "      <td>2.538175e+09</td>\n",
       "      <td>31184.159152</td>\n",
       "      <td>263318.312759</td>\n",
       "      <td>78.857305</td>\n",
       "      <td>74.108196</td>\n",
       "      <td>0.451750</td>\n",
       "      <td>236.688165</td>\n",
       "      <td>237.120600</td>\n",
       "      <td>12758.019136</td>\n",
       "      <td>0.646436</td>\n",
       "    </tr>\n",
       "    <tr>\n",
       "      <th>min</th>\n",
       "      <td>1.000014e+09</td>\n",
       "      <td>0.000000</td>\n",
       "      <td>0.000000</td>\n",
       "      <td>0.000000</td>\n",
       "      <td>0.000000</td>\n",
       "      <td>0.000000</td>\n",
       "      <td>0.000000</td>\n",
       "      <td>0.000000</td>\n",
       "      <td>0.000000</td>\n",
       "      <td>0.000000</td>\n",
       "    </tr>\n",
       "    <tr>\n",
       "      <th>25%</th>\n",
       "      <td>2.589758e+09</td>\n",
       "      <td>27587.000000</td>\n",
       "      <td>235210.000000</td>\n",
       "      <td>60.000000</td>\n",
       "      <td>2.000000</td>\n",
       "      <td>1.000000</td>\n",
       "      <td>0.000000</td>\n",
       "      <td>0.000000</td>\n",
       "      <td>1.000000</td>\n",
       "      <td>0.000000</td>\n",
       "    </tr>\n",
       "    <tr>\n",
       "      <th>50%</th>\n",
       "      <td>4.361439e+09</td>\n",
       "      <td>55410.000000</td>\n",
       "      <td>445310.000000</td>\n",
       "      <td>84.000000</td>\n",
       "      <td>4.000000</td>\n",
       "      <td>1.000000</td>\n",
       "      <td>0.000000</td>\n",
       "      <td>1.000000</td>\n",
       "      <td>1.000000</td>\n",
       "      <td>1.000000</td>\n",
       "    </tr>\n",
       "    <tr>\n",
       "      <th>75%</th>\n",
       "      <td>6.904627e+09</td>\n",
       "      <td>83704.000000</td>\n",
       "      <td>561730.000000</td>\n",
       "      <td>120.000000</td>\n",
       "      <td>10.000000</td>\n",
       "      <td>2.000000</td>\n",
       "      <td>1.000000</td>\n",
       "      <td>4.000000</td>\n",
       "      <td>1.000000</td>\n",
       "      <td>1.000000</td>\n",
       "    </tr>\n",
       "    <tr>\n",
       "      <th>max</th>\n",
       "      <td>9.996003e+09</td>\n",
       "      <td>99999.000000</td>\n",
       "      <td>928120.000000</td>\n",
       "      <td>569.000000</td>\n",
       "      <td>9999.000000</td>\n",
       "      <td>2.000000</td>\n",
       "      <td>8800.000000</td>\n",
       "      <td>9500.000000</td>\n",
       "      <td>99999.000000</td>\n",
       "      <td>2.000000</td>\n",
       "    </tr>\n",
       "  </tbody>\n",
       "</table>\n",
       "</div>"
      ],
      "text/plain": [
       "       LoanNr_ChkDgt            Zip          NAICS           Term  \\\n",
       "count   8.991640e+05  899164.000000  899164.000000  899164.000000   \n",
       "mean    4.772612e+09   53804.391241  398660.950146     110.773078   \n",
       "std     2.538175e+09   31184.159152  263318.312759      78.857305   \n",
       "min     1.000014e+09       0.000000       0.000000       0.000000   \n",
       "25%     2.589758e+09   27587.000000  235210.000000      60.000000   \n",
       "50%     4.361439e+09   55410.000000  445310.000000      84.000000   \n",
       "75%     6.904627e+09   83704.000000  561730.000000     120.000000   \n",
       "max     9.996003e+09   99999.000000  928120.000000     569.000000   \n",
       "\n",
       "               NoEmp       NewExist      CreateJob    RetainedJob  \\\n",
       "count  899164.000000  899028.000000  899164.000000  899164.000000   \n",
       "mean       11.411353       1.280404       8.430376      10.797257   \n",
       "std        74.108196       0.451750     236.688165     237.120600   \n",
       "min         0.000000       0.000000       0.000000       0.000000   \n",
       "25%         2.000000       1.000000       0.000000       0.000000   \n",
       "50%         4.000000       1.000000       0.000000       1.000000   \n",
       "75%        10.000000       2.000000       1.000000       4.000000   \n",
       "max      9999.000000       2.000000    8800.000000    9500.000000   \n",
       "\n",
       "       FranchiseCode     UrbanRural  \n",
       "count  899164.000000  899164.000000  \n",
       "mean     2753.725933       0.757748  \n",
       "std     12758.019136       0.646436  \n",
       "min         0.000000       0.000000  \n",
       "25%         1.000000       0.000000  \n",
       "50%         1.000000       1.000000  \n",
       "75%         1.000000       1.000000  \n",
       "max     99999.000000       2.000000  "
      ]
     },
     "execution_count": 11,
     "metadata": {},
     "output_type": "execute_result"
    }
   ],
   "source": [
    "# Get a statistical summary of the dataset\n",
    "df.describe()"
   ]
  },
  {
   "cell_type": "markdown",
   "id": "f9aee770",
   "metadata": {},
   "source": [
    "### Applicability of `df.describe()`\n",
    "\n",
    "The `df.describe()` method, which provides summary statistics, can be applied to the following columns:\n",
    "\n",
    "- **Term**: The 'Term' column likely represents the loan term in months, which is a numerical feature. You can use `df.describe()` to obtain statistics like mean, standard deviation, and quartiles for this column. It helps us understand the distribution of loan terms and their central tendencies.\n",
    "\n",
    "- **NoEmp**: This column contains numerical data, representing the number of business employees. `df.describe()` is well-suited for generating statistics like the mean, standard deviation, and quartiles for this column. It helps us understand the central tendency and spread of the employee count in the dataset.\n",
    "\n",
    "- **CreateJob** and **RetainedJob**: Both of these columns are likely related to job creation and retention. They are numerical features, and `df.describe()` can be used to derive statistics on these metrics.\n",
    "\n",
    "For the following columns, `df.describe()` is not applicable:\n",
    "\n",
    "- **LoanNr_ChkDgt**: This column likely serves as an identifier or primary key for each loan entry. It contains unique values and is not suitable for generating meaningful numerical statistics.\n",
    "\n",
    "- **Zip**: Zip codes are categorical data representing geographical locations and postal codes. `df.describe()` is not applicable to zip codes as it's designed for numerical statistics, not categorical data.\n",
    "\n",
    "- **NAICS**: NAICS codes represent industry categories and classifications. These are categorical variables, and `df.describe()` is not appropriate for generating numerical statistics for this type of data.\n",
    "\n",
    "- **NewExist**: This column contains categorical values (1 and 2) indicating whether a business is existing (1) or new (2). It doesn't provide meaningful numerical statistics, and using `df.describe()` on categorical data like this is not suitable.\n",
    "\n",
    "- **FranchiseCode**: Franchise codes are categorical values representing franchise status. `df.describe()` is not suitable for generating numerical statistics for this type of data.\n",
    "\n",
    "- **UrbanRural**: This column contains categorical values (0, 1, and 2) indicating urban, rural, or undefined locations. `df.describe()` is not applicable to this type of categorical data.\n",
    "\n",
    "Understanding the applicability of `df.describe()` for specific columns is essential for utilizing this method effectively in data analysis, ensuring that it provides meaningful insights based on the nature of the data."
   ]
  },
  {
   "cell_type": "code",
   "execution_count": 12,
   "id": "e668c491",
   "metadata": {},
   "outputs": [
    {
     "data": {
      "text/plain": [
       "LoanNr_ChkDgt             0\n",
       "Name                     14\n",
       "City                     30\n",
       "State                    14\n",
       "Zip                       0\n",
       "Bank                   1559\n",
       "BankState              1566\n",
       "NAICS                     0\n",
       "ApprovalDate              0\n",
       "ApprovalFY                0\n",
       "Term                      0\n",
       "NoEmp                     0\n",
       "NewExist                136\n",
       "CreateJob                 0\n",
       "RetainedJob               0\n",
       "FranchiseCode             0\n",
       "UrbanRural                0\n",
       "RevLineCr              4528\n",
       "LowDoc                 2582\n",
       "ChgOffDate           736465\n",
       "DisbursementDate       2368\n",
       "DisbursementGross         0\n",
       "BalanceGross              0\n",
       "MIS_Status             1997\n",
       "ChgOffPrinGr              0\n",
       "GrAppv                    0\n",
       "SBA_Appv                  0\n",
       "dtype: int64"
      ]
     },
     "execution_count": 12,
     "metadata": {},
     "output_type": "execute_result"
    }
   ],
   "source": [
    "# Check the number of null values in each column\n",
    "df.isnull().sum()"
   ]
  },
  {
   "cell_type": "code",
   "execution_count": 13,
   "id": "c045d00d",
   "metadata": {},
   "outputs": [
    {
     "data": {
      "text/plain": [
       "0"
      ]
     },
     "execution_count": 13,
     "metadata": {},
     "output_type": "execute_result"
    }
   ],
   "source": [
    "# Check for duplicate rows\n",
    "df.duplicated().sum()"
   ]
  },
  {
   "cell_type": "markdown",
   "id": "2b3461b8",
   "metadata": {},
   "source": [
    "## Cleaning <a class=\"anchor\" id=\"cleaning\"></a>"
   ]
  },
  {
   "cell_type": "markdown",
   "id": "8e7169ad",
   "metadata": {},
   "source": [
    "We will clean the following columns: 'DisbursementGross', 'BalanceGross', 'ChgOffPrinGr', 'GrAppv', and 'SBA_Appv'.\n",
    "\n",
    "- 'DisbursementGross' represents the amount of money disbursed.\n",
    "- 'BalanceGross' represents the balance amount.\n",
    "- 'ChgOffPrinGr' is the charged-off principal amount.\n",
    "- 'GrAppv' is the approved gross amount.\n",
    "- 'SBA_Appv' is the SBA-approved amount.\n",
    "\n",
    "We will remove any dollar signs, commas, and spaces from these columns to convert the values into numerical format."
   ]
  },
  {
   "cell_type": "code",
   "execution_count": 14,
   "id": "115b531e",
   "metadata": {},
   "outputs": [],
   "source": [
    "columns_to_clean = ['DisbursementGross', 'BalanceGross', 'ChgOffPrinGr', 'GrAppv', 'SBA_Appv']\n",
    "\n",
    "for column in columns_to_clean:\n",
    "    df[column] = df[column].replace('[$, ]', '', regex=True).astype(float)"
   ]
  },
  {
   "cell_type": "code",
   "execution_count": 15,
   "id": "724d4323",
   "metadata": {},
   "outputs": [
    {
     "data": {
      "text/plain": [
       "LoanNr_ChkDgt          int64\n",
       "Name                  object\n",
       "City                  object\n",
       "State                 object\n",
       "Zip                    int64\n",
       "Bank                  object\n",
       "BankState             object\n",
       "NAICS                  int64\n",
       "ApprovalDate          object\n",
       "ApprovalFY            object\n",
       "Term                   int64\n",
       "NoEmp                  int64\n",
       "NewExist             float64\n",
       "CreateJob              int64\n",
       "RetainedJob            int64\n",
       "FranchiseCode          int64\n",
       "UrbanRural             int64\n",
       "RevLineCr             object\n",
       "LowDoc                object\n",
       "ChgOffDate            object\n",
       "DisbursementDate      object\n",
       "DisbursementGross    float64\n",
       "BalanceGross         float64\n",
       "MIS_Status            object\n",
       "ChgOffPrinGr         float64\n",
       "GrAppv               float64\n",
       "SBA_Appv             float64\n",
       "dtype: object"
      ]
     },
     "execution_count": 15,
     "metadata": {},
     "output_type": "execute_result"
    }
   ],
   "source": [
    "# Display the data types of the dataset\n",
    "df.dtypes"
   ]
  },
  {
   "cell_type": "markdown",
   "id": "95a9b0cd",
   "metadata": {},
   "source": [
    "**Data Type Conversion: From Object to Float**\n",
    "\n",
    "- The columns we cleaned ('DisbursementGross', 'BalanceGross', 'ChgOffPrinGr', 'GrAppv', and 'SBA_Appv') were of data type 'object.' This data type is a generic container for strings and mixed types of data. However, when working with numerical values, using 'float' is preferred.\n",
    "\n",
    "- The 'float' data type represents real numbers and is suitable for storing decimal and floating-point values. It allows us to perform mathematical operations, aggregations, and statistical analyses on the data.\n",
    "\n",
    "By converting these columns to 'float,' we have made the data more accessible for a wide range of data analysis and modeling tasks. We can now proceed to perform further analysis on these columns and gain valuable insights from the cleaned and properly formatted numerical data."
   ]
  },
  {
   "cell_type": "code",
   "execution_count": 16,
   "id": "316bfc0d",
   "metadata": {},
   "outputs": [
    {
     "data": {
      "text/plain": [
       "LoanNr_ChkDgt         0.000000\n",
       "Name                  0.001557\n",
       "City                  0.003336\n",
       "State                 0.001557\n",
       "Zip                   0.000000\n",
       "Bank                  0.173383\n",
       "BankState             0.174162\n",
       "NAICS                 0.000000\n",
       "ApprovalDate          0.000000\n",
       "ApprovalFY            0.000000\n",
       "Term                  0.000000\n",
       "NoEmp                 0.000000\n",
       "NewExist              0.015125\n",
       "CreateJob             0.000000\n",
       "RetainedJob           0.000000\n",
       "FranchiseCode         0.000000\n",
       "UrbanRural            0.000000\n",
       "RevLineCr             0.503579\n",
       "LowDoc                0.287156\n",
       "ChgOffDate           81.905526\n",
       "DisbursementDate      0.263356\n",
       "DisbursementGross     0.000000\n",
       "BalanceGross          0.000000\n",
       "MIS_Status            0.222095\n",
       "ChgOffPrinGr          0.000000\n",
       "GrAppv                0.000000\n",
       "SBA_Appv              0.000000\n",
       "dtype: float64"
      ]
     },
     "execution_count": 16,
     "metadata": {},
     "output_type": "execute_result"
    }
   ],
   "source": [
    "# Check the percentage of missing values in each column\n",
    "df.isnull().sum() / len(df) * 100"
   ]
  },
  {
   "cell_type": "code",
   "execution_count": 17,
   "id": "5bfa2093",
   "metadata": {},
   "outputs": [],
   "source": [
    "# Create a copy of the original dataframe\n",
    "df_clean = df.copy()\n",
    "\n",
    "# Get the columns with more than 20% missing values\n",
    "cols_to_drop = df_clean.columns[df_clean.isnull().sum() / len(df_clean) * 100 > 20]\n",
    "\n",
    "# Drop the columns with more than 20% missing values\n",
    "df_clean.drop(cols_to_drop, axis=1, inplace=True)"
   ]
  },
  {
   "cell_type": "code",
   "execution_count": 18,
   "id": "7b06b1a8",
   "metadata": {},
   "outputs": [
    {
     "data": {
      "text/plain": [
       "(899164, 26)"
      ]
     },
     "execution_count": 18,
     "metadata": {},
     "output_type": "execute_result"
    }
   ],
   "source": [
    "# Check the shape of the dataframe\n",
    "df_clean.shape"
   ]
  },
  {
   "cell_type": "markdown",
   "id": "b2d97544",
   "metadata": {},
   "source": [
    "### Data Cleaning Methodology\n",
    "\n",
    "**Step 1: Calculate Missing Data Percentage**\n",
    "\n",
    "We begin by calculating the percentage of missing values in each column. This involves using the `isnull()` method to create a Boolean DataFrame, summing these values for each column, and dividing by the total row count.\n",
    "\n",
    "**Step 2: Create Clean DataFrame Copy**\n",
    "\n",
    "We create a duplicate of the original DataFrame, `df`, named `df_clean`, to preserve the original data.\n",
    "\n",
    "**Step 3: Identify Columns with >20% Missing Data**\n",
    "\n",
    "We pinpoint and filter out columns in `df_clean` with over 20% missing data using Boolean indexing.\n",
    "\n",
    "**Step 4: Drop High Missing Data Columns**\n",
    "\n",
    "The code removes the identified columns with excessive missing data from `df_clean` using the `drop()` method.\n",
    "\n",
    "**Step 5: Check DataFrame Dimensions**\n",
    "\n",
    "We verify the shape of the resulting `df_clean` DataFrame to confirm the row and column count.\n",
    "\n",
    "### Findings\n",
    "\n",
    "1. The original DataFrame, `df`, contained 899,164 rows and 27 columns.\n",
    "\n",
    "2. After the data cleaning process, `df_clean` retains the same row count but is reduced to 26 columns.\n",
    "\n",
    "   - This means one column had over 20% missing data in the original DataFrame, and it was removed, resulting in a more manageable and complete dataset for analysis or modeling.\n"
   ]
  },
  {
   "cell_type": "code",
   "execution_count": 19,
   "id": "74125349",
   "metadata": {},
   "outputs": [
    {
     "data": {
      "text/plain": [
       "RevLineCr            0.503579\n",
       "LowDoc               0.287156\n",
       "DisbursementDate     0.263356\n",
       "MIS_Status           0.222095\n",
       "BankState            0.174162\n",
       "Bank                 0.173383\n",
       "NewExist             0.015125\n",
       "City                 0.003336\n",
       "State                0.001557\n",
       "Name                 0.001557\n",
       "LoanNr_ChkDgt        0.000000\n",
       "UrbanRural           0.000000\n",
       "GrAppv               0.000000\n",
       "ChgOffPrinGr         0.000000\n",
       "BalanceGross         0.000000\n",
       "DisbursementGross    0.000000\n",
       "CreateJob            0.000000\n",
       "FranchiseCode        0.000000\n",
       "RetainedJob          0.000000\n",
       "NoEmp                0.000000\n",
       "Term                 0.000000\n",
       "ApprovalFY           0.000000\n",
       "ApprovalDate         0.000000\n",
       "NAICS                0.000000\n",
       "Zip                  0.000000\n",
       "SBA_Appv             0.000000\n",
       "dtype: float64"
      ]
     },
     "execution_count": 19,
     "metadata": {},
     "output_type": "execute_result"
    }
   ],
   "source": [
    "# Check the percentage of missing values in each column in descending order\n",
    "(df_clean.isnull().sum() / len(df_clean) * 100).sort_values(ascending=False)"
   ]
  },
  {
   "cell_type": "markdown",
   "id": "4400d02d",
   "metadata": {},
   "source": [
    "We will now direct our attention to a column that showcases a higher rate of missing values compared to the rest of the dataset:\n",
    "\n",
    "- **RevLineCr:** Approximately 50% of the rows are missing data in this column.\n",
    "- **LowDoc:** Approximately 29% of the rows are missing data in this column.\n",
    "- **DisbursementDate:** Approximately 26% of the rows are missing data in this column.\n",
    "- **MIS_Status:** Approximately 22% of the rows are missing data in this column.\n",
    "- **BankState:** Approximately 17% of the rows are missing data in this column.\n",
    "- **Bank:** Approximately 17% of the rows are missing data in this column.\n",
    "- **City:** Approximately 0.3% of the rows are missing data in this column.\n",
    "- **State:** Approximately 0.2% of the rows are missing data in this column.\n",
    "- **Name:** Approximately 0.2% of the rows are missing data in this column."
   ]
  },
  {
   "cell_type": "code",
   "execution_count": 20,
   "id": "afa4a9e9",
   "metadata": {},
   "outputs": [
    {
     "name": "stdout",
     "output_type": "stream",
     "text": [
      "Column Name: RevLineCr\n",
      "Column Description: Revolving line of credit: Y = Yes, N = No\n"
     ]
    }
   ],
   "source": [
    "column_name = 'RevLineCr'\n",
    "description = get_column_description(column_name)\n",
    "print(f'Column Name: {column_name}')\n",
    "print(f'Column Description: {description}')"
   ]
  },
  {
   "cell_type": "markdown",
   "id": "b4720161",
   "metadata": {},
   "source": [
    "### Interpretation of the \"RevLineCr\" Column:\n",
    "\n",
    "The \"RevLineCr\" column in the dataset represents the presence or absence of a revolving line of credit. A revolving line of credit is a type of credit arrangement where a borrower is granted a specific credit limit and can borrow, repay, and borrow again up to that limit. It is often associated with credit cards and similar financial products.\n",
    "\n",
    "**Interpretation:**\n",
    "\n",
    "- **Y (Yes)**: Indicates that the borrower has a revolving line of credit.\n",
    "- **N (No)**: Indicates that the borrower does not have a revolving line of credit.\n",
    "\n",
    "**Significance:**\n",
    "\n",
    "The presence of a revolving line of credit can be an important factor in assessing a borrower's financial stability and creditworthiness. It may affect the borrower's ability to manage multiple lines of credit and their financial responsibilities.\n",
    "\n",
    "**Timing of Variable in the Loan Application Process:**\n",
    "\n",
    "The information in the \"RevLineCr\" column is available at the time of the loan application, prior to the actual loan disbursement.\n",
    "\n",
    "**Decision on Data Handling:**\n",
    "\n",
    "As the \"RevLineCr\" column provides insights into the borrower's financial situation at the time of loan application, it is relevant for loan prediction and analysis. Therefore, it is recommended to **retain** this column for further analysis and modeling.\n"
   ]
  },
  {
   "cell_type": "markdown",
   "id": "f1d20981",
   "metadata": {},
   "source": [
    "### Identifying Unique Values in the 'RevLineCr' Column\n",
    "\n",
    "Let's begin by examining all the unique values in the 'RevLineCr' column to understand its content. This is crucial as we intend to retain only 'Y' and 'N' values, and any other values will be dropped."
   ]
  },
  {
   "cell_type": "code",
   "execution_count": 21,
   "id": "2295f5f1",
   "metadata": {},
   "outputs": [
    {
     "name": "stdout",
     "output_type": "stream",
     "text": [
      "['N' '0' 'Y' 'T' nan '`' ',' '1' 'C' '3' '2' 'R' '7' 'A' '5' '.' '4' '-'\n",
      " 'Q']\n"
     ]
    }
   ],
   "source": [
    "# Get unique values in the 'RevLineCr' column\n",
    "unique_values = df_clean['RevLineCr'].unique()\n",
    "\n",
    "# Print the unique values\n",
    "print(unique_values)"
   ]
  },
  {
   "cell_type": "code",
   "execution_count": 22,
   "id": "e2b45b51",
   "metadata": {},
   "outputs": [],
   "source": [
    "# Filter rows in the 'RevLineCr' column that contain 'Y' or 'N'\n",
    "df_clean = df_clean[df_clean['RevLineCr'].isin(['Y', 'N', '0'])]\n",
    "\n",
    "# Reset the index\n",
    "df_clean = df_clean.reset_index(drop=True)"
   ]
  },
  {
   "cell_type": "code",
   "execution_count": 23,
   "id": "2e6d1920",
   "metadata": {},
   "outputs": [
    {
     "name": "stdout",
     "output_type": "stream",
     "text": [
      "\n",
      "Unique Values After Filtering:\n",
      "['N' '0' 'Y']\n"
     ]
    }
   ],
   "source": [
    "# Get unique values after filtering\n",
    "unique_values_after = df_clean['RevLineCr'].unique()\n",
    "\n",
    "# Print the unique values after filtering\n",
    "print(\"\\nUnique Values After Filtering:\")\n",
    "print(unique_values_after)"
   ]
  },
  {
   "cell_type": "code",
   "execution_count": 24,
   "id": "4eba7843",
   "metadata": {},
   "outputs": [
    {
     "name": "stdout",
     "output_type": "stream",
     "text": [
      "Column Name: LowDoc\n",
      "Column Description: LowDoc Loan Program: Y = Yes, N = No\n"
     ]
    }
   ],
   "source": [
    "column_name = 'LowDoc'\n",
    "description = get_column_description(column_name)\n",
    "print(f'Column Name: {column_name}')\n",
    "print(f'Column Description: {description}')"
   ]
  },
  {
   "cell_type": "markdown",
   "id": "cacb1668",
   "metadata": {},
   "source": [
    "### Interpretation of the \"LowDoc\" Column:\n",
    "\n",
    "The \"LowDoc\" column in the dataset is an indicator of whether the loan applied for falls under the LowDoc Loan Program. The LowDoc Loan Program is a specific lending program designed for small businesses to simplify the loan application process, especially for loans of relatively small amounts. However, it's important to note that as of September 2021, the U.S. Small Business Administration (SBA) eliminated the LowDoc Loan Program.\n",
    "\n",
    "**Interpretation:**\n",
    "\n",
    "- **Y (Yes)**: Indicates that the loan is classified under the LowDoc Loan Program before its elimination.\n",
    "- **N (No)**: Indicates that the loan does not fall under the LowDoc Loan Program.\n",
    "\n",
    "**Significance:**\n",
    "\n",
    "Prior to its elimination, the LowDoc Loan Program aimed to reduce the documentation and paperwork requirements for small business loans, making it more accessible to small business owners. However, it's important to consider that the program is no longer in effect.\n",
    "\n",
    "**Timing of Variable in the Loan Application Process:**\n",
    "\n",
    "The information in the \"LowDoc\" column is available at the time of the loan application, prior to the actual loan disbursement. Loans classified under the LowDoc program were subject to its streamlined documentation requirements until the program's elimination in September 2021.\n",
    "\n",
    "**Decision on Data Handling:**\n",
    "\n",
    "As of September 2021, the \"LowDoc\" column may contain data from loans classified under the LowDoc Loan Program before its elimination. Given that the LowDoc Loan Program has been eliminated, the \"LowDoc\" column may no longer provide relevant information for predicting loan defaults. Therefore, it is recommended to **exclude** this column for further analysis and modeling."
   ]
  },
  {
   "cell_type": "code",
   "execution_count": 25,
   "id": "42750377",
   "metadata": {},
   "outputs": [],
   "source": [
    "# drop the LowDoc column\n",
    "df_clean.drop('LowDoc', axis=1, inplace=True)"
   ]
  },
  {
   "cell_type": "code",
   "execution_count": 26,
   "id": "a8acffaf",
   "metadata": {},
   "outputs": [
    {
     "data": {
      "text/html": [
       "<div>\n",
       "<style scoped>\n",
       "    .dataframe tbody tr th:only-of-type {\n",
       "        vertical-align: middle;\n",
       "    }\n",
       "\n",
       "    .dataframe tbody tr th {\n",
       "        vertical-align: top;\n",
       "    }\n",
       "\n",
       "    .dataframe thead th {\n",
       "        text-align: right;\n",
       "    }\n",
       "</style>\n",
       "<table border=\"1\" class=\"dataframe\">\n",
       "  <thead>\n",
       "    <tr style=\"text-align: right;\">\n",
       "      <th></th>\n",
       "      <th>LoanNr_ChkDgt</th>\n",
       "      <th>Name</th>\n",
       "      <th>City</th>\n",
       "      <th>State</th>\n",
       "      <th>Zip</th>\n",
       "      <th>Bank</th>\n",
       "      <th>BankState</th>\n",
       "      <th>NAICS</th>\n",
       "      <th>ApprovalDate</th>\n",
       "      <th>ApprovalFY</th>\n",
       "      <th>Term</th>\n",
       "      <th>NoEmp</th>\n",
       "      <th>NewExist</th>\n",
       "      <th>CreateJob</th>\n",
       "      <th>RetainedJob</th>\n",
       "      <th>FranchiseCode</th>\n",
       "      <th>UrbanRural</th>\n",
       "      <th>RevLineCr</th>\n",
       "      <th>DisbursementDate</th>\n",
       "      <th>DisbursementGross</th>\n",
       "      <th>BalanceGross</th>\n",
       "      <th>MIS_Status</th>\n",
       "      <th>ChgOffPrinGr</th>\n",
       "      <th>GrAppv</th>\n",
       "      <th>SBA_Appv</th>\n",
       "    </tr>\n",
       "  </thead>\n",
       "  <tbody>\n",
       "    <tr>\n",
       "      <th>0</th>\n",
       "      <td>1000014003</td>\n",
       "      <td>ABC HOBBYCRAFT</td>\n",
       "      <td>EVANSVILLE</td>\n",
       "      <td>IN</td>\n",
       "      <td>47711</td>\n",
       "      <td>FIFTH THIRD BANK</td>\n",
       "      <td>OH</td>\n",
       "      <td>451120</td>\n",
       "      <td>28-Feb-97</td>\n",
       "      <td>1997</td>\n",
       "      <td>84</td>\n",
       "      <td>4</td>\n",
       "      <td>2.0</td>\n",
       "      <td>0</td>\n",
       "      <td>0</td>\n",
       "      <td>1</td>\n",
       "      <td>0</td>\n",
       "      <td>N</td>\n",
       "      <td>28-Feb-99</td>\n",
       "      <td>60000.0</td>\n",
       "      <td>0.0</td>\n",
       "      <td>P I F</td>\n",
       "      <td>0.0</td>\n",
       "      <td>60000.0</td>\n",
       "      <td>48000.0</td>\n",
       "    </tr>\n",
       "    <tr>\n",
       "      <th>1</th>\n",
       "      <td>1000024006</td>\n",
       "      <td>LANDMARK BAR &amp; GRILLE (THE)</td>\n",
       "      <td>NEW PARIS</td>\n",
       "      <td>IN</td>\n",
       "      <td>46526</td>\n",
       "      <td>1ST SOURCE BANK</td>\n",
       "      <td>IN</td>\n",
       "      <td>722410</td>\n",
       "      <td>28-Feb-97</td>\n",
       "      <td>1997</td>\n",
       "      <td>60</td>\n",
       "      <td>2</td>\n",
       "      <td>2.0</td>\n",
       "      <td>0</td>\n",
       "      <td>0</td>\n",
       "      <td>1</td>\n",
       "      <td>0</td>\n",
       "      <td>N</td>\n",
       "      <td>31-May-97</td>\n",
       "      <td>40000.0</td>\n",
       "      <td>0.0</td>\n",
       "      <td>P I F</td>\n",
       "      <td>0.0</td>\n",
       "      <td>40000.0</td>\n",
       "      <td>32000.0</td>\n",
       "    </tr>\n",
       "    <tr>\n",
       "      <th>2</th>\n",
       "      <td>1000034009</td>\n",
       "      <td>WHITLOCK DDS, TODD M.</td>\n",
       "      <td>BLOOMINGTON</td>\n",
       "      <td>IN</td>\n",
       "      <td>47401</td>\n",
       "      <td>GRANT COUNTY STATE BANK</td>\n",
       "      <td>IN</td>\n",
       "      <td>621210</td>\n",
       "      <td>28-Feb-97</td>\n",
       "      <td>1997</td>\n",
       "      <td>180</td>\n",
       "      <td>7</td>\n",
       "      <td>1.0</td>\n",
       "      <td>0</td>\n",
       "      <td>0</td>\n",
       "      <td>1</td>\n",
       "      <td>0</td>\n",
       "      <td>N</td>\n",
       "      <td>31-Dec-97</td>\n",
       "      <td>287000.0</td>\n",
       "      <td>0.0</td>\n",
       "      <td>P I F</td>\n",
       "      <td>0.0</td>\n",
       "      <td>287000.0</td>\n",
       "      <td>215250.0</td>\n",
       "    </tr>\n",
       "    <tr>\n",
       "      <th>3</th>\n",
       "      <td>1000044001</td>\n",
       "      <td>BIG BUCKS PAWN &amp; JEWELRY, LLC</td>\n",
       "      <td>BROKEN ARROW</td>\n",
       "      <td>OK</td>\n",
       "      <td>74012</td>\n",
       "      <td>1ST NATL BK &amp; TR CO OF BROKEN</td>\n",
       "      <td>OK</td>\n",
       "      <td>0</td>\n",
       "      <td>28-Feb-97</td>\n",
       "      <td>1997</td>\n",
       "      <td>60</td>\n",
       "      <td>2</td>\n",
       "      <td>1.0</td>\n",
       "      <td>0</td>\n",
       "      <td>0</td>\n",
       "      <td>1</td>\n",
       "      <td>0</td>\n",
       "      <td>N</td>\n",
       "      <td>30-Jun-97</td>\n",
       "      <td>35000.0</td>\n",
       "      <td>0.0</td>\n",
       "      <td>P I F</td>\n",
       "      <td>0.0</td>\n",
       "      <td>35000.0</td>\n",
       "      <td>28000.0</td>\n",
       "    </tr>\n",
       "    <tr>\n",
       "      <th>4</th>\n",
       "      <td>1000054004</td>\n",
       "      <td>ANASTASIA CONFECTIONS, INC.</td>\n",
       "      <td>ORLANDO</td>\n",
       "      <td>FL</td>\n",
       "      <td>32801</td>\n",
       "      <td>FLORIDA BUS. DEVEL CORP</td>\n",
       "      <td>FL</td>\n",
       "      <td>0</td>\n",
       "      <td>28-Feb-97</td>\n",
       "      <td>1997</td>\n",
       "      <td>240</td>\n",
       "      <td>14</td>\n",
       "      <td>1.0</td>\n",
       "      <td>7</td>\n",
       "      <td>7</td>\n",
       "      <td>1</td>\n",
       "      <td>0</td>\n",
       "      <td>N</td>\n",
       "      <td>14-May-97</td>\n",
       "      <td>229000.0</td>\n",
       "      <td>0.0</td>\n",
       "      <td>P I F</td>\n",
       "      <td>0.0</td>\n",
       "      <td>229000.0</td>\n",
       "      <td>229000.0</td>\n",
       "    </tr>\n",
       "  </tbody>\n",
       "</table>\n",
       "</div>"
      ],
      "text/plain": [
       "   LoanNr_ChkDgt                           Name          City State    Zip  \\\n",
       "0     1000014003                 ABC HOBBYCRAFT    EVANSVILLE    IN  47711   \n",
       "1     1000024006    LANDMARK BAR & GRILLE (THE)     NEW PARIS    IN  46526   \n",
       "2     1000034009          WHITLOCK DDS, TODD M.   BLOOMINGTON    IN  47401   \n",
       "3     1000044001  BIG BUCKS PAWN & JEWELRY, LLC  BROKEN ARROW    OK  74012   \n",
       "4     1000054004    ANASTASIA CONFECTIONS, INC.       ORLANDO    FL  32801   \n",
       "\n",
       "                            Bank BankState   NAICS ApprovalDate ApprovalFY  \\\n",
       "0               FIFTH THIRD BANK        OH  451120    28-Feb-97       1997   \n",
       "1                1ST SOURCE BANK        IN  722410    28-Feb-97       1997   \n",
       "2        GRANT COUNTY STATE BANK        IN  621210    28-Feb-97       1997   \n",
       "3  1ST NATL BK & TR CO OF BROKEN        OK       0    28-Feb-97       1997   \n",
       "4        FLORIDA BUS. DEVEL CORP        FL       0    28-Feb-97       1997   \n",
       "\n",
       "   Term  NoEmp  NewExist  CreateJob  RetainedJob  FranchiseCode  UrbanRural  \\\n",
       "0    84      4       2.0          0            0              1           0   \n",
       "1    60      2       2.0          0            0              1           0   \n",
       "2   180      7       1.0          0            0              1           0   \n",
       "3    60      2       1.0          0            0              1           0   \n",
       "4   240     14       1.0          7            7              1           0   \n",
       "\n",
       "  RevLineCr DisbursementDate  DisbursementGross  BalanceGross MIS_Status  \\\n",
       "0         N        28-Feb-99            60000.0           0.0      P I F   \n",
       "1         N        31-May-97            40000.0           0.0      P I F   \n",
       "2         N        31-Dec-97           287000.0           0.0      P I F   \n",
       "3         N        30-Jun-97            35000.0           0.0      P I F   \n",
       "4         N        14-May-97           229000.0           0.0      P I F   \n",
       "\n",
       "   ChgOffPrinGr    GrAppv  SBA_Appv  \n",
       "0           0.0   60000.0   48000.0  \n",
       "1           0.0   40000.0   32000.0  \n",
       "2           0.0  287000.0  215250.0  \n",
       "3           0.0   35000.0   28000.0  \n",
       "4           0.0  229000.0  229000.0  "
      ]
     },
     "execution_count": 26,
     "metadata": {},
     "output_type": "execute_result"
    }
   ],
   "source": [
    "df_clean.head()"
   ]
  },
  {
   "cell_type": "code",
   "execution_count": 27,
   "id": "044d1d2b",
   "metadata": {},
   "outputs": [
    {
     "name": "stdout",
     "output_type": "stream",
     "text": [
      "Column Name: DisbursementDate\n",
      "Column Description: Disbursement date\n"
     ]
    }
   ],
   "source": [
    "column_name = 'DisbursementDate'\n",
    "description = get_column_description(column_name)\n",
    "print(f'Column Name: {column_name}')\n",
    "print(f'Column Description: {description}')"
   ]
  },
  {
   "cell_type": "markdown",
   "id": "1840f388",
   "metadata": {},
   "source": [
    "### Interpretation of the \"DisbursementDate\" Column:\n",
    "\n",
    "The \"DisbursementDate\" column in the dataset provides information about the date on which a loan was disbursed or paid out to the borrower. This date marks the point at which the borrower gains access to the funds and can start using them for their intended business purposes.\n",
    "\n",
    "**Interpretation:**\n",
    "\n",
    "- The values in this column represent specific dates when loans were disbursed to borrowers.\n",
    "\n",
    "**Significance:**\n",
    "\n",
    "While \"DisbursementDate\" carries significance in understanding the timing of loan disbursement, it may not be directly relevant to predicting loan default. In a real-case scenario for loan default prediction, this information is typically not available.\n",
    "\n",
    "**Timing of Variable in the Loan Application Process:**\n",
    "\n",
    "The \"DisbursementDate\" variable is relevant during the loan disbursement phase, which occurs after the loan application approval process. It marks the point when the borrower receives the approved loan amount.\n",
    "\n",
    "**Decision on Data Handling:**\n",
    "\n",
    "Considering that \"DisbursementDate\" does not contribute to predicting loan default and may not be present in real-case scenarios when making predictions, it is reccomended that we **exclude** this column from the dataset. This streamlines the analysis, focusing on factors more directly associated with loan default prediction.\n"
   ]
  },
  {
   "cell_type": "code",
   "execution_count": 28,
   "id": "843c8e72",
   "metadata": {},
   "outputs": [],
   "source": [
    "# drop the DisbursementDate column\n",
    "df_clean.drop('DisbursementDate', axis=1, inplace=True)"
   ]
  },
  {
   "cell_type": "code",
   "execution_count": 29,
   "id": "ccd06f23",
   "metadata": {},
   "outputs": [
    {
     "data": {
      "text/html": [
       "<div>\n",
       "<style scoped>\n",
       "    .dataframe tbody tr th:only-of-type {\n",
       "        vertical-align: middle;\n",
       "    }\n",
       "\n",
       "    .dataframe tbody tr th {\n",
       "        vertical-align: top;\n",
       "    }\n",
       "\n",
       "    .dataframe thead th {\n",
       "        text-align: right;\n",
       "    }\n",
       "</style>\n",
       "<table border=\"1\" class=\"dataframe\">\n",
       "  <thead>\n",
       "    <tr style=\"text-align: right;\">\n",
       "      <th></th>\n",
       "      <th>LoanNr_ChkDgt</th>\n",
       "      <th>Name</th>\n",
       "      <th>City</th>\n",
       "      <th>State</th>\n",
       "      <th>Zip</th>\n",
       "      <th>Bank</th>\n",
       "      <th>BankState</th>\n",
       "      <th>NAICS</th>\n",
       "      <th>ApprovalDate</th>\n",
       "      <th>ApprovalFY</th>\n",
       "      <th>Term</th>\n",
       "      <th>NoEmp</th>\n",
       "      <th>NewExist</th>\n",
       "      <th>CreateJob</th>\n",
       "      <th>RetainedJob</th>\n",
       "      <th>FranchiseCode</th>\n",
       "      <th>UrbanRural</th>\n",
       "      <th>RevLineCr</th>\n",
       "      <th>DisbursementGross</th>\n",
       "      <th>BalanceGross</th>\n",
       "      <th>MIS_Status</th>\n",
       "      <th>ChgOffPrinGr</th>\n",
       "      <th>GrAppv</th>\n",
       "      <th>SBA_Appv</th>\n",
       "    </tr>\n",
       "  </thead>\n",
       "  <tbody>\n",
       "    <tr>\n",
       "      <th>0</th>\n",
       "      <td>1000014003</td>\n",
       "      <td>ABC HOBBYCRAFT</td>\n",
       "      <td>EVANSVILLE</td>\n",
       "      <td>IN</td>\n",
       "      <td>47711</td>\n",
       "      <td>FIFTH THIRD BANK</td>\n",
       "      <td>OH</td>\n",
       "      <td>451120</td>\n",
       "      <td>28-Feb-97</td>\n",
       "      <td>1997</td>\n",
       "      <td>84</td>\n",
       "      <td>4</td>\n",
       "      <td>2.0</td>\n",
       "      <td>0</td>\n",
       "      <td>0</td>\n",
       "      <td>1</td>\n",
       "      <td>0</td>\n",
       "      <td>N</td>\n",
       "      <td>60000.0</td>\n",
       "      <td>0.0</td>\n",
       "      <td>P I F</td>\n",
       "      <td>0.0</td>\n",
       "      <td>60000.0</td>\n",
       "      <td>48000.0</td>\n",
       "    </tr>\n",
       "    <tr>\n",
       "      <th>1</th>\n",
       "      <td>1000024006</td>\n",
       "      <td>LANDMARK BAR &amp; GRILLE (THE)</td>\n",
       "      <td>NEW PARIS</td>\n",
       "      <td>IN</td>\n",
       "      <td>46526</td>\n",
       "      <td>1ST SOURCE BANK</td>\n",
       "      <td>IN</td>\n",
       "      <td>722410</td>\n",
       "      <td>28-Feb-97</td>\n",
       "      <td>1997</td>\n",
       "      <td>60</td>\n",
       "      <td>2</td>\n",
       "      <td>2.0</td>\n",
       "      <td>0</td>\n",
       "      <td>0</td>\n",
       "      <td>1</td>\n",
       "      <td>0</td>\n",
       "      <td>N</td>\n",
       "      <td>40000.0</td>\n",
       "      <td>0.0</td>\n",
       "      <td>P I F</td>\n",
       "      <td>0.0</td>\n",
       "      <td>40000.0</td>\n",
       "      <td>32000.0</td>\n",
       "    </tr>\n",
       "    <tr>\n",
       "      <th>2</th>\n",
       "      <td>1000034009</td>\n",
       "      <td>WHITLOCK DDS, TODD M.</td>\n",
       "      <td>BLOOMINGTON</td>\n",
       "      <td>IN</td>\n",
       "      <td>47401</td>\n",
       "      <td>GRANT COUNTY STATE BANK</td>\n",
       "      <td>IN</td>\n",
       "      <td>621210</td>\n",
       "      <td>28-Feb-97</td>\n",
       "      <td>1997</td>\n",
       "      <td>180</td>\n",
       "      <td>7</td>\n",
       "      <td>1.0</td>\n",
       "      <td>0</td>\n",
       "      <td>0</td>\n",
       "      <td>1</td>\n",
       "      <td>0</td>\n",
       "      <td>N</td>\n",
       "      <td>287000.0</td>\n",
       "      <td>0.0</td>\n",
       "      <td>P I F</td>\n",
       "      <td>0.0</td>\n",
       "      <td>287000.0</td>\n",
       "      <td>215250.0</td>\n",
       "    </tr>\n",
       "    <tr>\n",
       "      <th>3</th>\n",
       "      <td>1000044001</td>\n",
       "      <td>BIG BUCKS PAWN &amp; JEWELRY, LLC</td>\n",
       "      <td>BROKEN ARROW</td>\n",
       "      <td>OK</td>\n",
       "      <td>74012</td>\n",
       "      <td>1ST NATL BK &amp; TR CO OF BROKEN</td>\n",
       "      <td>OK</td>\n",
       "      <td>0</td>\n",
       "      <td>28-Feb-97</td>\n",
       "      <td>1997</td>\n",
       "      <td>60</td>\n",
       "      <td>2</td>\n",
       "      <td>1.0</td>\n",
       "      <td>0</td>\n",
       "      <td>0</td>\n",
       "      <td>1</td>\n",
       "      <td>0</td>\n",
       "      <td>N</td>\n",
       "      <td>35000.0</td>\n",
       "      <td>0.0</td>\n",
       "      <td>P I F</td>\n",
       "      <td>0.0</td>\n",
       "      <td>35000.0</td>\n",
       "      <td>28000.0</td>\n",
       "    </tr>\n",
       "    <tr>\n",
       "      <th>4</th>\n",
       "      <td>1000054004</td>\n",
       "      <td>ANASTASIA CONFECTIONS, INC.</td>\n",
       "      <td>ORLANDO</td>\n",
       "      <td>FL</td>\n",
       "      <td>32801</td>\n",
       "      <td>FLORIDA BUS. DEVEL CORP</td>\n",
       "      <td>FL</td>\n",
       "      <td>0</td>\n",
       "      <td>28-Feb-97</td>\n",
       "      <td>1997</td>\n",
       "      <td>240</td>\n",
       "      <td>14</td>\n",
       "      <td>1.0</td>\n",
       "      <td>7</td>\n",
       "      <td>7</td>\n",
       "      <td>1</td>\n",
       "      <td>0</td>\n",
       "      <td>N</td>\n",
       "      <td>229000.0</td>\n",
       "      <td>0.0</td>\n",
       "      <td>P I F</td>\n",
       "      <td>0.0</td>\n",
       "      <td>229000.0</td>\n",
       "      <td>229000.0</td>\n",
       "    </tr>\n",
       "  </tbody>\n",
       "</table>\n",
       "</div>"
      ],
      "text/plain": [
       "   LoanNr_ChkDgt                           Name          City State    Zip  \\\n",
       "0     1000014003                 ABC HOBBYCRAFT    EVANSVILLE    IN  47711   \n",
       "1     1000024006    LANDMARK BAR & GRILLE (THE)     NEW PARIS    IN  46526   \n",
       "2     1000034009          WHITLOCK DDS, TODD M.   BLOOMINGTON    IN  47401   \n",
       "3     1000044001  BIG BUCKS PAWN & JEWELRY, LLC  BROKEN ARROW    OK  74012   \n",
       "4     1000054004    ANASTASIA CONFECTIONS, INC.       ORLANDO    FL  32801   \n",
       "\n",
       "                            Bank BankState   NAICS ApprovalDate ApprovalFY  \\\n",
       "0               FIFTH THIRD BANK        OH  451120    28-Feb-97       1997   \n",
       "1                1ST SOURCE BANK        IN  722410    28-Feb-97       1997   \n",
       "2        GRANT COUNTY STATE BANK        IN  621210    28-Feb-97       1997   \n",
       "3  1ST NATL BK & TR CO OF BROKEN        OK       0    28-Feb-97       1997   \n",
       "4        FLORIDA BUS. DEVEL CORP        FL       0    28-Feb-97       1997   \n",
       "\n",
       "   Term  NoEmp  NewExist  CreateJob  RetainedJob  FranchiseCode  UrbanRural  \\\n",
       "0    84      4       2.0          0            0              1           0   \n",
       "1    60      2       2.0          0            0              1           0   \n",
       "2   180      7       1.0          0            0              1           0   \n",
       "3    60      2       1.0          0            0              1           0   \n",
       "4   240     14       1.0          7            7              1           0   \n",
       "\n",
       "  RevLineCr  DisbursementGross  BalanceGross MIS_Status  ChgOffPrinGr  \\\n",
       "0         N            60000.0           0.0      P I F           0.0   \n",
       "1         N            40000.0           0.0      P I F           0.0   \n",
       "2         N           287000.0           0.0      P I F           0.0   \n",
       "3         N            35000.0           0.0      P I F           0.0   \n",
       "4         N           229000.0           0.0      P I F           0.0   \n",
       "\n",
       "     GrAppv  SBA_Appv  \n",
       "0   60000.0   48000.0  \n",
       "1   40000.0   32000.0  \n",
       "2  287000.0  215250.0  \n",
       "3   35000.0   28000.0  \n",
       "4  229000.0  229000.0  "
      ]
     },
     "execution_count": 29,
     "metadata": {},
     "output_type": "execute_result"
    }
   ],
   "source": [
    "df_clean.head()"
   ]
  },
  {
   "cell_type": "code",
   "execution_count": 30,
   "id": "59fea370",
   "metadata": {},
   "outputs": [
    {
     "name": "stdout",
     "output_type": "stream",
     "text": [
      "Column Name: MIS_Status\n",
      "Column Description: Loan status charged off = CHGOFF, Paid in full = PIF\n"
     ]
    }
   ],
   "source": [
    "column_name = 'MIS_Status'\n",
    "description = get_column_description(column_name)\n",
    "print(f'Column Name: {column_name}')\n",
    "print(f'Column Description: {description}')"
   ]
  },
  {
   "cell_type": "markdown",
   "id": "07a77665",
   "metadata": {},
   "source": [
    "### Interpretation of the \"MIS_Status\" Column (Target Variable):\n",
    "\n",
    "The \"MIS_Status\" column in the dataset serves as the primary target variable. It indicates the status of a loan, classifying it as either \"Charged Off\" (CHGOFF) or \"Paid in Full\" (PIF).\n",
    "\n",
    "**Interpretation:**\n",
    "\n",
    "- **Charged Off (CHGOFF)**: This category signifies that the loan has been declared as \"charged off,\" typically indicating a significant delinquency or default.\n",
    "- **Paid in Full (PIF)**: This category denotes that the loan has been successfully paid off in full by the borrower.\n",
    "\n",
    "**Significance:**\n",
    "\n",
    "The \"MIS_Status\" column is of utmost importance in understanding the loan's ultimate outcome. It allows us to categorize loans into two critical groups: those that resulted in default (\"Charged Off\") and those that were successfully repaid (\"Paid in Full\"). This information is vital for predictive modeling, enabling the assessment of factors that contribute to loan default.\n",
    "\n",
    "**Timing of Variable in the Loan Application Process:**\n",
    "\n",
    "The \"MIS_Status\" variable becomes known after the loan's term has progressed, and it reflects the outcome of the borrower's ability to meet their repayment obligations. It is a post-disbursement variable.\n",
    "\n",
    "**Decision on Data Handling:**\n",
    "\n",
    "As the primary target variable for predicting loan default, the \"MIS_Status\" column is valuable. Therefore, it is recommended to **retain** this column and utilize it as the focal point for building the predictive model to assess the loan default risk.\n"
   ]
  },
  {
   "cell_type": "code",
   "execution_count": 31,
   "id": "47a3bd5e",
   "metadata": {},
   "outputs": [],
   "source": [
    "# We replace 'P|F' with 'Paid' and 'CHGOFF' with 'Default' to ensure consistency in the dataset.\n",
    "df_clean['MIS_Status'] = df_clean['MIS_Status'].replace(['P I F'], 'Paid')\n",
    "df_clean['MIS_Status'] = df_clean['MIS_Status'].replace(['CHGOFF'], 'Default')"
   ]
  },
  {
   "cell_type": "markdown",
   "id": "3b133995",
   "metadata": {},
   "source": [
    "### Identifying Unique Values in the 'MIS_Status' Column\n",
    "\n",
    "Let's begin by examining all the unique values in the 'MIS_Status' column to understand its content. This is crucial as we intend to retain only 'Paid' and 'Default' values, and any other values will be dropped."
   ]
  },
  {
   "cell_type": "code",
   "execution_count": 32,
   "id": "acc587d3",
   "metadata": {},
   "outputs": [
    {
     "name": "stdout",
     "output_type": "stream",
     "text": [
      "['Paid' 'Default' nan]\n"
     ]
    }
   ],
   "source": [
    "# Get unique values in the 'RevLineCr' column\n",
    "unique_values = df_clean['MIS_Status'].unique()\n",
    "\n",
    "# Print the unique values\n",
    "print(unique_values)"
   ]
  },
  {
   "cell_type": "code",
   "execution_count": 33,
   "id": "d544779a",
   "metadata": {},
   "outputs": [],
   "source": [
    "# Drop rows with NaN values in the 'MIS_Status' column\n",
    "df_clean = df_clean.dropna(subset=['MIS_Status'])"
   ]
  },
  {
   "cell_type": "code",
   "execution_count": 34,
   "id": "e8ccaa72",
   "metadata": {},
   "outputs": [
    {
     "name": "stdout",
     "output_type": "stream",
     "text": [
      "['Paid' 'Default']\n"
     ]
    }
   ],
   "source": [
    "# Get unique values in the 'RevLineCr' column\n",
    "unique_values = df_clean['MIS_Status'].unique()\n",
    "\n",
    "# Print the unique values\n",
    "print(unique_values)"
   ]
  },
  {
   "cell_type": "markdown",
   "id": "eaa9bd98",
   "metadata": {},
   "source": [
    "This results in two values, 'Paid' and 'Default'."
   ]
  },
  {
   "cell_type": "code",
   "execution_count": 35,
   "id": "8d0b7e30",
   "metadata": {},
   "outputs": [
    {
     "name": "stdout",
     "output_type": "stream",
     "text": [
      "Column Name: Name\n",
      "Column Description: Borrower name\n"
     ]
    }
   ],
   "source": [
    "column_name = 'Name'\n",
    "description = get_column_description(column_name)\n",
    "print(f'Column Name: {column_name}')\n",
    "print(f'Column Description: {description}')"
   ]
  },
  {
   "cell_type": "code",
   "execution_count": 37,
   "id": "6d0e1301",
   "metadata": {},
   "outputs": [
    {
     "name": "stdout",
     "output_type": "stream",
     "text": [
      "Column Name: Zip\n",
      "Column Description: Borrower zip code\n"
     ]
    }
   ],
   "source": [
    "column_name = 'Zip'\n",
    "description = get_column_description(column_name)\n",
    "print(f'Column Name: {column_name}')\n",
    "print(f'Column Description: {description}')"
   ]
  },
  {
   "cell_type": "markdown",
   "id": "f58af129",
   "metadata": {},
   "source": [
    "### Interpretation of the \"ZIP\" Column\n",
    "\n",
    "In our dataset, the \"Zip\" column contains postal Zip codes associated with our borrowers or businesses, offering insights into their geographic locations. However, it's worth noting that we already have separate columns for \"State\" and \"City,\" providing more detailed location information. As a result, the \"Zip\" column may seem redundant for our analysis.\n",
    "\n",
    "**Significance:**\n",
    "\n",
    "While Zip codes can be valuable for identifying geographic regions, in our specific case, their significance might be diminished due to the availability of more specific location data in the \"State\" and \"City\" columns.\n",
    "\n",
    "**Timing of Variable in the Loan Application Process:**\n",
    "\n",
    "The \"Zip\" variable, like other location-related data, remains relevant throughout the loan application process for assessing geographic factors.\n",
    "\n",
    "**Decision on Data Handling:**\n",
    "\n",
    "Given that we possess more detailed geographic information through the \"State\" and \"City\" columns, it seems reasonable to consider **excluding** the \"Zip\" column from our analysis. This would help us avoid redundancy and streamline our modeling process. However, the ultimate decision should be based on whether ZIP code data adds unique value to our specific analysis or if it can be safely omitted.\n"
   ]
  },
  {
   "cell_type": "code",
   "execution_count": 38,
   "id": "7e4d77bb",
   "metadata": {},
   "outputs": [],
   "source": [
    "# drop the Zip column\n",
    "df_clean.drop('Zip', axis=1, inplace=True)"
   ]
  },
  {
   "cell_type": "code",
   "execution_count": 39,
   "id": "c4c92d71",
   "metadata": {},
   "outputs": [
    {
     "name": "stdout",
     "output_type": "stream",
     "text": [
      "Column Name: BankState\n",
      "Column Description: Bank state\n"
     ]
    }
   ],
   "source": [
    "column_name = 'BankState'\n",
    "description = get_column_description(column_name)\n",
    "print(f'Column Name: {column_name}')\n",
    "print(f'Column Description: {description}')"
   ]
  },
  {
   "cell_type": "markdown",
   "id": "c7f40f33",
   "metadata": {},
   "source": [
    "### Interpretation of the \"BankState\" Column:\n",
    "\n",
    "The \"BankState\" column in the dataset indicates the state in which the bank associated with the loan's approval is located. It provides information about the geographical location of the lending institution responsible for approving the loan.\n",
    "\n",
    "**Interpretation:**\n",
    "\n",
    "- The values in this column represent the two-letter abbreviations of U.S. states where the banks are headquartered.\n",
    "\n",
    "**Significance:**\n",
    "\n",
    "The \"BankState\" column can be significant for various analytical purposes. It may offer insights into regional banking trends, potential regulatory variations across states, and lender distribution.\n",
    "\n",
    "**Timing of Variable in the Loan Application Process:**\n",
    "\n",
    "The \"BankState\" variable is relevant throughout the loan application process, from the initial application to approval. It reflects the geographical origin of the lending institution.\n",
    "\n",
    "**Decision on Data Handling:**\n",
    "\n",
    "The inclusion of the \"BankState\" column is not of utmost importance but it is recommended to **retain** this column for exploratory purposes."
   ]
  },
  {
   "cell_type": "code",
   "execution_count": 40,
   "id": "15664271",
   "metadata": {},
   "outputs": [
    {
     "name": "stdout",
     "output_type": "stream",
     "text": [
      "Column Name: Bank\n",
      "Column Description: Bank name\n"
     ]
    }
   ],
   "source": [
    "column_name = 'Bank'\n",
    "description = get_column_description(column_name)\n",
    "print(f'Column Name: {column_name}')\n",
    "print(f'Column Description: {description}')"
   ]
  },
  {
   "cell_type": "markdown",
   "id": "896291d8",
   "metadata": {},
   "source": [
    "### Interpretation of the \"Bank\" Column:\n",
    "\n",
    "The \"Bank\" column in the dataset represents the name of the bank associated with the loan's approval. It provides information about the lending institution responsible for approving and disbursing the loan.\n",
    "\n",
    "**Interpretation:**\n",
    "\n",
    "- The values in this column includes the names of banks and financial institutions involved in the loan approval process.\n",
    "\n",
    "**Significance:**\n",
    "\n",
    "The \"Bank\" column is significant for understanding the specific lending institutions involved in the loan application process. It may offer insights into the diversity of lenders, their individual policies, and their role in providing financial support to borrowers.\n",
    "\n",
    "**Timing of Variable in the Loan Application Process:**\n",
    "\n",
    "The \"Bank\" variable is relevant throughout the loan application process, from the initial application to approval and disbursement. It reflects the specific lending institution chosen by the borrower or the lender responsible for the loan.\n",
    "\n",
    "**Decision on Data Handling:**\n",
    "\n",
    "The inclusion of the \"Bank\" column is not of utmost importance but it is recommended to **retain** this column for exploratory purposes."
   ]
  },
  {
   "cell_type": "code",
   "execution_count": 41,
   "id": "210258ed",
   "metadata": {},
   "outputs": [
    {
     "name": "stdout",
     "output_type": "stream",
     "text": [
      "Column Name: City\n",
      "Column Description: Borrower city\n"
     ]
    }
   ],
   "source": [
    "column_name = 'City'\n",
    "description = get_column_description(column_name)\n",
    "print(f'Column Name: {column_name}')\n",
    "print(f'Column Description: {description}')"
   ]
  },
  {
   "cell_type": "markdown",
   "id": "4a7552f9",
   "metadata": {},
   "source": [
    "### Interpretation of the \"City\" Column:\n",
    "\n",
    "The \"City\" column in the dataset represents the city associated with the borrower's location. It provides information about the geographical location of the businesses or individuals applying for loans.\n",
    "\n",
    "**Interpretation:**\n",
    "\n",
    "- The values in this column includes the names of cities where borrowers are located.\n",
    "\n",
    "**Significance:**\n",
    "\n",
    "The \"City\" column is significant for understanding the geographical distribution of loan applicants. It offers insights into the regional concentration of borrowers and may help identify location-specific patterns, economic conditions, and local market trends.\n",
    "\n",
    "**Timing of Variable in the Loan Application Process:**\n",
    "\n",
    "The \"City\" variable is relevant throughout the loan application process, from the initial application to approval and disbursement. It reflects the geographical origin of the borrower and the location of the business.\n",
    "\n",
    "**Decision on Data Handling:**\n",
    "\n",
    "The inclusion of the \"City\" column can be valuable. It is recommended to **retain** this column for exploratory purposes."
   ]
  },
  {
   "cell_type": "code",
   "execution_count": 42,
   "id": "d4a1d2df",
   "metadata": {},
   "outputs": [
    {
     "name": "stdout",
     "output_type": "stream",
     "text": [
      "Column Name: State\n",
      "Column Description: Borrower state\n"
     ]
    }
   ],
   "source": [
    "column_name = 'State'\n",
    "description = get_column_description(column_name)\n",
    "print(f'Column Name: {column_name}')\n",
    "print(f'Column Description: {description}')"
   ]
  },
  {
   "cell_type": "markdown",
   "id": "d1d6f90e",
   "metadata": {},
   "source": [
    "### Interpretation of the \"State\" Column:\n",
    "\n",
    "The \"State\" column in the dataset represents the U.S. state associated with the borrower's location. It provides information about the geographical location of small businesses applying for loans.\n",
    "\n",
    "**Interpretation:**\n",
    "\n",
    "- The values in this column includes the two-letter abbreviations of U.S. states to denote the location of the borrower.\n",
    "\n",
    "**Significance:**\n",
    "\n",
    "The \"State\" column is significant for understanding the geographical distribution of loan applicants and allows for regional categorization. It offers insights into the diversity of borrowers across different states and may help identify location-specific economic conditions, regulatory factors, and market trends.\n",
    "\n",
    "**Timing of Variable in the Loan Application Process:**\n",
    "\n",
    "The \"State\" variable is relevant throughout the loan application process, from the initial application to approval and disbursement. It reflects the geographical origin of the borrower and the location of the business.\n",
    "\n",
    "**Decision on Data Handling:**\n",
    "\n",
    "The inclusion of the \"State\" column in your dataset can be valuable. It is recommended to **retain** this column for exploratory purposes."
   ]
  },
  {
   "cell_type": "code",
   "execution_count": 43,
   "id": "e05bcd10",
   "metadata": {},
   "outputs": [
    {
     "name": "stdout",
     "output_type": "stream",
     "text": [
      "Column Name: Name\n",
      "Column Description: Borrower name\n"
     ]
    }
   ],
   "source": [
    "column_name = 'Name'\n",
    "description = get_column_description(column_name)\n",
    "print(f'Column Name: {column_name}')\n",
    "print(f'Column Description: {description}')"
   ]
  },
  {
   "cell_type": "markdown",
   "id": "77f5334f",
   "metadata": {},
   "source": [
    "### Interpretation of the \"Name\" Column:\n",
    "\n",
    "The \"Name\" column in the dataset represents the name or identifier of the borrower or business applying for the loan. It provides information about the entity/individual seeking financial support.\n",
    "\n",
    "**Interpretation:**\n",
    "\n",
    "- The values in this column includes the names of borrowers (businesses).\n",
    "\n",
    "**Significance:**\n",
    "\n",
    "The \"Name\" column serves to identify and categorize businesses in the dataset. While it is a fundamental component of the loan application information, its specific relevance to loan outcomes or default prediction may be limited.\n",
    "\n",
    "**Timing of Variable in the Loan Application Process:**\n",
    "\n",
    "The \"Name\" variable is relevant throughout the loan application process, from the initial application to approval and disbursement. It reflects the identity of the borrower or business entity.\n",
    "\n",
    "**Decision on Data Handling:**\n",
    "\n",
    "For the specific purpose of loan default prediction, the \"Name\" column may not significantly contribute. It is recommended to **retain** this column for exploratory purposes."
   ]
  },
  {
   "cell_type": "code",
   "execution_count": 44,
   "id": "576de71c",
   "metadata": {},
   "outputs": [
    {
     "data": {
      "text/plain": [
       "(877343, 23)"
      ]
     },
     "execution_count": 44,
     "metadata": {},
     "output_type": "execute_result"
    }
   ],
   "source": [
    "df_clean.shape"
   ]
  },
  {
   "cell_type": "markdown",
   "id": "88520914",
   "metadata": {},
   "source": [
    "## Exploring Columns for Data Cleaning\n",
    "\n",
    "We'll explore all the columns in the dataset. This step is instrumental in data cleaning, as it enables us to identify and address any data inconsistencies or anomalies."
   ]
  },
  {
   "cell_type": "code",
   "execution_count": 45,
   "id": "2adc0df8",
   "metadata": {},
   "outputs": [
    {
     "name": "stdout",
     "output_type": "stream",
     "text": [
      "Column Name: NAICS\n",
      "Column Description: North American industry classification system code\n"
     ]
    }
   ],
   "source": [
    "column_name = 'NAICS'\n",
    "description = get_column_description(column_name)\n",
    "print(f'Column Name: {column_name}')\n",
    "print(f'Column Description: {description}')"
   ]
  },
  {
   "cell_type": "markdown",
   "id": "b9fa1f69",
   "metadata": {},
   "source": [
    "### Interpretation of the \"NAICS\" Column\n",
    "\n",
    "The \"NAICS\" (North American Industry Classification System) column in the dataset contains codes that classify the type of industry or business that the borrower or entity represents. These codes provide information about the industry or sector to which the borrower belongs.\n",
    "\n",
    "**Interpretation:**\n",
    "\n",
    "- The values in this column are NAICS codes representing different industries or sectors.\n",
    "\n",
    "**Significance:**\n",
    "\n",
    "The \"NAICS\" column is crucial for categorizing and understanding the nature of the businesses in the dataset. It offers insights into the diversity of industries seeking financial support through loans. The specific industry of a borrower can be an important factor in loan outcomes and default prediction.\n",
    "\n",
    "**Timing of Variable in the Loan Application Process:**\n",
    "\n",
    "The \"NAICS\" variable is relevant throughout the loan application process, as it reflects the industry or sector of the borrower or business. This information is considered during the initial application, approval, and disbursement stages of the loan.\n",
    "\n",
    "**Decision on Data Handling:**\n",
    "\n",
    "For the purpose of loan default prediction, the \"NAICS\" column can be a valuable feature. The industry or sector to which a business belongs can impact its financial stability and likelihood of default. It is recommended to **retain** this column for predictive modeling and analysis, as it can provide meaningful insights into loan outcomes.\n"
   ]
  },
  {
   "cell_type": "code",
   "execution_count": 46,
   "id": "be0f25e8",
   "metadata": {},
   "outputs": [
    {
     "name": "stdout",
     "output_type": "stream",
     "text": [
      "Column Name: NewExist\n",
      "Column Description: 1 = Existing business, 2 = New business\n"
     ]
    }
   ],
   "source": [
    "column_name = 'NewExist'\n",
    "description = get_column_description(column_name)\n",
    "print(f'Column Name: {column_name}')\n",
    "print(f'Column Description: {description}')"
   ]
  },
  {
   "cell_type": "markdown",
   "id": "ba760b4e",
   "metadata": {},
   "source": [
    "### Interpretation of the \"NewExist\" Column\n",
    "\n",
    "The \"NewExist\" column in the dataset is used to categorize businesses based on their status as either new or existing entities. This classification helps in understanding the lifecycle stage of the businesses seeking loans.\n",
    "\n",
    "**Interpretation:**\n",
    "\n",
    "- The \"NewExist\" column contains values that categorize businesses as either new (1) or existing (2) entities.\n",
    "\n",
    "**Significance:**\n",
    "\n",
    "The \"NewExist\" variable is significant in classifying businesses based on their stage of development. It provides insights into whether the borrowers are startups or established businesses. This information can be relevant for assessing loan risk and default prediction.\n",
    "\n",
    "**Timing of Variable in the Loan Application Process:**\n",
    "\n",
    "The \"NewExist\" variable is pertinent during the entire loan application process. It reflects the stage of development of the business or entity, which can influence loan decisions, including approval and terms.\n",
    "\n",
    "**Decision on Data Handling:**\n",
    "\n",
    "For the purpose of loan default prediction, the \"NewExist\" column is a valuable feature. The lifecycle stage of a business can be a crucial factor in assessing its financial stability and likelihood of default. Therefore, it is recommended to **retain** this column for predictive modeling and analysis, as it can provide meaningful insights into loan outcomes.\n"
   ]
  },
  {
   "cell_type": "markdown",
   "id": "54c26274",
   "metadata": {},
   "source": [
    "### Identifying Unique Values in the 'NewExist' Column\n",
    "\n",
    "Let's begin by examining all the unique values in the 'NewExist' column to understand its content. This is crucial as we intend to retain only '1' and '2' values, and any other values will be dropped."
   ]
  },
  {
   "cell_type": "code",
   "execution_count": 47,
   "id": "869d84b7",
   "metadata": {},
   "outputs": [
    {
     "name": "stdout",
     "output_type": "stream",
     "text": [
      "[ 2.  1.  0. nan]\n"
     ]
    }
   ],
   "source": [
    "# Get unique values in the 'NewExist' column\n",
    "unique_values_newexist = df_clean['NewExist'].unique()\n",
    "\n",
    "# Print the unique values\n",
    "print(unique_values_newexist)"
   ]
  },
  {
   "cell_type": "code",
   "execution_count": 48,
   "id": "e40ae95d",
   "metadata": {},
   "outputs": [],
   "source": [
    "# Keep rows with values 1 and 2 in the 'NewExist' column\n",
    "df_clean = df_clean[df_clean['NewExist'].isin([1, 2])]"
   ]
  },
  {
   "cell_type": "code",
   "execution_count": 49,
   "id": "3add276c",
   "metadata": {},
   "outputs": [
    {
     "name": "stdout",
     "output_type": "stream",
     "text": [
      "[2. 1.]\n"
     ]
    }
   ],
   "source": [
    "# Get unique values in the 'NewExist' column\n",
    "unique_values_newexist = df_clean['NewExist'].unique()\n",
    "\n",
    "# Print the unique values\n",
    "print(unique_values_newexist)"
   ]
  },
  {
   "cell_type": "code",
   "execution_count": 50,
   "id": "a823705c",
   "metadata": {},
   "outputs": [
    {
     "data": {
      "text/plain": [
       "(876192, 23)"
      ]
     },
     "execution_count": 50,
     "metadata": {},
     "output_type": "execute_result"
    }
   ],
   "source": [
    "df_clean.shape"
   ]
  },
  {
   "cell_type": "code",
   "execution_count": 51,
   "id": "3efaca02",
   "metadata": {},
   "outputs": [
    {
     "name": "stdout",
     "output_type": "stream",
     "text": [
      "Column Name: FranchiseCode\n",
      "Column Description: Franchise code, (00000 or 00001) = No franchise\n"
     ]
    }
   ],
   "source": [
    "column_name = 'FranchiseCode'\n",
    "description = get_column_description(column_name)\n",
    "print(f'Column Name: {column_name}')\n",
    "print(f'Column Description: {description}')"
   ]
  },
  {
   "cell_type": "markdown",
   "id": "c78689ab",
   "metadata": {},
   "source": [
    "### Interpretation of the \"FranchiseCode\" Column\n",
    "\n",
    "The \"FranchiseCode\" column in the dataset contains numerical codes that indicate whether a business is a franchise or not. These codes provide information about whether the borrower's business operates as a franchise.\n",
    "\n",
    "**Interpretation:**\n",
    "\n",
    "- The \"FranchiseCode\" column contains numerical codes where specific values represent franchises, while others indicate non-franchise businesses.\n",
    "\n",
    "**Significance:**\n",
    "\n",
    "The \"FranchiseCode\" variable is crucial for distinguishing between businesses that are part of a franchise and those that are independently owned. This information is significant for assessing the structure and business model of the borrowers, which can have implications for loan outcomes and default prediction.\n",
    "\n",
    "**Timing of Variable in the Loan Application Process:**\n",
    "\n",
    "The \"FranchiseCode\" variable is relevant during the entire loan application process. It reflects whether the business is affiliated with a franchise or operates independently, which can influence loan decisions.\n",
    "\n",
    "**Decision on Data Handling:**\n",
    "\n",
    "For the purpose of loan default prediction, the \"FranchiseCode\" column can be a valuable feature. Understanding whether a business is a franchise or independent can provide insights into loan risk and borrower characteristics. It is recommended to **retain** this column for predictive modeling and analysis, as it can offer valuable information for assessing loan outcomes.\n"
   ]
  },
  {
   "cell_type": "markdown",
   "id": "6c39e017",
   "metadata": {},
   "source": [
    "### Identifying Unique Values in the 'FranchiseCode' Column\n",
    "\n",
    "In this section, we will explore the unique values present in the 'FranchiseCode' column. This exploration is essential as we have retained values starting with '11', '21', '22', and other specified two-digit prefixes, along with '0' and '1', while any other values have been excluded from our analysis."
   ]
  },
  {
   "cell_type": "code",
   "execution_count": 52,
   "id": "8faacce9",
   "metadata": {},
   "outputs": [
    {
     "name": "stdout",
     "output_type": "stream",
     "text": [
      "[    1     0 15100 ...  2899 18701 15930]\n"
     ]
    }
   ],
   "source": [
    "# Get unique values in the 'FranchiseCode' column\n",
    "unique_values_franchisecode = df_clean['FranchiseCode'].unique()\n",
    "\n",
    "# Print the unique values\n",
    "print(unique_values_franchisecode)"
   ]
  },
  {
   "cell_type": "code",
   "execution_count": 53,
   "id": "a6937979",
   "metadata": {},
   "outputs": [],
   "source": [
    "# Define the list of valid two-digit prefixes\n",
    "valid_prefixes = ['11', '21', '22', '23', '31', '32', '33', '42', '44', '45', '48', '49', '51', '52', '53', '54', '55', '56', '61', '62', '71', '72', '81', '92']\n",
    "\n",
    "# Include one-digit values '0' and '1'\n",
    "valid_prefixes += ['0', '1']\n",
    "\n",
    "# Convert 'FranchiseCode' to string type\n",
    "df_clean['FranchiseCode'] = df_clean['FranchiseCode'].astype(str)\n",
    "\n",
    "# Filter rows based on the 'FranchiseCode' column\n",
    "df_clean = df_clean[df_clean['FranchiseCode'].str[:2].isin(valid_prefixes) | (df_clean['FranchiseCode'].isin(['00000', '00001']))]\n"
   ]
  },
  {
   "cell_type": "code",
   "execution_count": 54,
   "id": "6b4638e3",
   "metadata": {
    "scrolled": false
   },
   "outputs": [
    {
     "name": "stdout",
     "output_type": "stream",
     "text": [
      "['1' '0' '22470' '21425' '21400' '23997' '51570' '81612' '81965' '23379'\n",
      " '22475' '21420' '23000' '72590' '71456' '44081' '52000' '21780' '42520'\n",
      " '45455' '81630' '53250' '56480' '62343' '52956' '55120' '61400' '49952'\n",
      " '4516' '56837' '45479' '33570' '61901' '33550' '62753' '61900' '21790'\n",
      " '48450' '31150' '9202' '22678' '81602' '55512' '56885' '52018' '48000'\n",
      " '32074' '55185' '54600' '53165' '45150' '22680' '71658' '21800' '53657'\n",
      " '33750' '22676' '51720' '55960' '45890' '71685' '11245' '2105' '56920'\n",
      " '54100' '45505' '53650' '33170' '52707' '81550' '45100' '72515' '62907'\n",
      " '32077' '81800' '42533' '31243' '45495' '31300' '32195' '5650' '52875'\n",
      " '32130' '55524' '61401' '55193' '61897' '21660' '48260' '33470' '42599'\n",
      " '11250' '21870' '44350' '51778' '31415' '52300' '56880' '52855' '4250'\n",
      " '45955' '44725' '51560' '2357' '56925' '45915' '49855' '9201' '48400'\n",
      " '62346' '62751' '71158' '81597' '54400' '61390' '62100' '42580' '55955'\n",
      " '81570' '53680' '72683' '23375' '62760' '61603' '56575' '6140' '54005'\n",
      " '32125' '42600' '44066' '51702' '52070' '23110' '54010' '44062' '61885'\n",
      " '55815' '21105' '32200' '4417' '56884' '44073' '44890' '32055' '55650'\n",
      " '61391' '21580' '9235' '23540' '54390' '21669' '55513' '55519' '21180'\n",
      " '42629' '42610' '44605' '31241' '72685' '53290' '62360' '81582' '71000'\n",
      " '42620' '4200' '23104' '52900' '48550' '61915' '22375' '42530' '62460'\n",
      " '56800' '61384' '54300' '71010' '6125' '49820' '52225' '2299' '62850'\n",
      " '33155' '4416' '42800' '53162' '61398' '62348' '56230' '81574' '32136'\n",
      " '44045' '31352' '52891' '45300' '31240' '44080' '31249' '81699' '44037'\n",
      " '53310' '55825' '23377' '45145' '81586' '32070' '72215' '31157' '49200'\n",
      " '44006' '44059' '44053' '55680' '45806' '53325' '23115' '61299' '33125'\n",
      " '56818' '53300' '48038' '53145' '52240' '61210' '62150' '71669' '44060'\n",
      " '33560' '81601' '61802' '56400' '31154' '54643' '45496' '48815' '52079'\n",
      " '53160' '72595' '52245' '44040' '81625' '9237' '21735' '48818' '33185'\n",
      " '452' '4252' '61253' '56604' '45919' '48250' '2297' '81610' '71684'\n",
      " '21037' '55510' '44729' '61214' '45970' '81606' '53660' '485' '33150'\n",
      " '71660' '9250' '81566' '55427' '81961' '42483' '4262' '61896' '4509'\n",
      " '52250' '33563' '21169' '32071' '21177' '33485' '61627' '71170' '5649'\n",
      " '55990' '62905' '44065' '53585' '23003' '2354' '51758' '4251' '31225'\n",
      " '44033' '53950' '21585' '21165' '21804' '2107' '32418' '81960' '55430'\n",
      " '42525' '72500' '81555' '81607' '6153' '42000' '6131' '81595' '51956'\n",
      " '44007' '72377' '71194' '44067' '55652' '72990' '31227' '71946' '22368'\n",
      " '9230' '48606' '62950' '81611' '45500' '61389' '9234' '44600' '72495'\n",
      " '52898' '61898' '81614' '56840' '4452' '53316' '49753' '81623' '56221'\n",
      " '51805' '42639' '44009' '71675' '2100' '9246' '9228' '61890' '61906'\n",
      " '49975' '81621' '23122' '9200' '56825' '33165' '71455' '51500' '44072'\n",
      " '71050' '56010' '62752' '49272' '33194' '55190' '54210' '21025' '9227'\n",
      " '44005' '42596' '52004' '22684' '71169' '48256' '52413' '56016' '56821'\n",
      " '72592' '32210' '32053' '32205' '31370' '9233' '52899' '48850' '62756'\n",
      " '42478' '53651' '42468' '62765' '44052' '56600' '420' '48500' '6133'\n",
      " '81790' '71453' '61500' '52265' '62903' '72600' '81603' '81560' '56824'\n",
      " '6139' '62450' '44078' '33210' '71720' '81589' '21428' '22677' '52007'\n",
      " '53700' '81906' '22660' '2367' '55212' '31360' '71947' '56836' '72380'\n",
      " '52414' '81605' '21500' '426' '61895' '81615' '51567' '51721' '71937'\n",
      " '32075' '49830' '55202' '21745' '42475' '21930' '2360' '72599' '71673'\n",
      " '11950' '56810' '32046' '6150' '48800' '45889' '6170' '55950' '9249'\n",
      " '56220' '71670' '2359' '21781' '53286' '23350' '56890' '44015' '42545'\n",
      " '11900' '45140' '53460' '71160' '51950' '11235' '61260' '61397' '5670'\n",
      " '52910' '53295' '55511' '62455' '62990' '4500' '4258' '53905' '42474'\n",
      " '62700' '21900' '55670' '44070' '45912' '22690' '48810' '32060' '52012'\n",
      " '52419' '31414' '21890' '51716' '31252' '55505' '51725' '48032' '61625'\n",
      " '48805' '72690' '71696' '48265' '61290' '61615' '4491' '81580' '56915'\n",
      " '81620' '61275' '81613' '55180' '81554' '51002' '71440' '48610' '33187'\n",
      " '81616' '42540' '32127' '53323' '51003' '62390' '52015' '55214' '44057'\n",
      " '81617' '61000' '71650' '11240' '22679' '9240' '51777' '55210' '44400'\n",
      " '11005' '11397' '11002' '81591' '48390' '52865' '72382' '81608' '48030'\n",
      " '81900' '21700' '4455' '53880' '52903' '61899' '61497' '33166' '53324'\n",
      " '48613' '44627' '21725' '23100' '53714' '81860' '51700' '61385' '32067'\n",
      " '71130' '6142' '45910' '22399' '52320' '48378' '32190' '52200' '62340'\n",
      " '21720' '49215' '21605' '32175' '71680' '54625' '81598' '72518' '71950'\n",
      " '9243' '71200' '44050' '2362' '455' '62688' '42625' '42479' '45950'\n",
      " '45465' '22395' '81572' '61250' '4459' '48020' '56223' '33510' '81797'\n",
      " '32299' '55175' '33509' '71205' '56839' '61629' '44008' '31400' '2103'\n",
      " '6130' '71140' '22480' '32050' '5549' '33190' '42631' '71700' '22663'\n",
      " '92000' '71452' '48501' '33215' '56883' '62925' '72594' '61919' '32400'\n",
      " '45105' '4259' '81587' '4256' '61295' '44090' '62750' '51575' '51795'\n",
      " '52948' '4492' '22675' '4457' '9225' '71705' '42586' '44625' '11023'\n",
      " '56819' '11965' '45482' '11150' '31256' '72684' '11299' '61605' '56878'\n",
      " '11195' '11836' '52860' '55220' '45499' '56830' '51733' '61402' '22687'\n",
      " '54200' '61829' '92006' '21430' '21424' '2361' '81575' '48026' '6132'\n",
      " '55215' '48385' '33747' '42597' '482' '4257' '48826' '62900' '23376'\n",
      " '23356' '56450' '53151' '71661' '72681' '54640' '71454' '72678' '44083'\n",
      " '71940' '81584' '61405' '45494' '23352' '31144' '81588' '54630' '31357'\n",
      " '456' '23378' '54610' '53296' '71185' '31363' '45477' '51780' '62349'\n",
      " '42636' '45953' '4254' '54126' '62715' '81830' '62452' '81619' '4495'\n",
      " '72680' '71459' '33567' '4255' '51630' '62855' '4456' '32063' '21038'\n",
      " '48820' '81599' '56574' '23118' '31411' '44572' '53110' '62344']\n"
     ]
    }
   ],
   "source": [
    "# Get unique values in the 'NewExist' column\n",
    "unique_values_franchisecode = df_clean['FranchiseCode'].unique()\n",
    "\n",
    "# Print the unique values\n",
    "print(unique_values_franchisecode)"
   ]
  },
  {
   "cell_type": "markdown",
   "id": "f40d2431",
   "metadata": {},
   "source": [
    "**Data Cleaning Note:**\n",
    "\n",
    "The data in the \"FranchiseCode\" column has been cleaned to include only rows with 'FranchiseCode' values that start with specific two-digit prefixes or are '00000' or '00001'. This cleaning step ensures that the data in this column is consistent and conforms to the specified criteria.\n",
    "\n",
    "The unique values in the \"FranchiseCode\" column have been reviewed to confirm that the data has been appropriately cleaned and filtered.\n"
   ]
  },
  {
   "cell_type": "code",
   "execution_count": 55,
   "id": "67a8718f",
   "metadata": {},
   "outputs": [
    {
     "name": "stdout",
     "output_type": "stream",
     "text": [
      "Percentage of Missing Values in Each Column:\n",
      "LoanNr_ChkDgt        0.0\n",
      "Name                 0.0\n",
      "City                 0.0\n",
      "State                0.0\n",
      "Bank                 0.0\n",
      "BankState            0.0\n",
      "NAICS                0.0\n",
      "ApprovalDate         0.0\n",
      "ApprovalFY           0.0\n",
      "Term                 0.0\n",
      "NoEmp                0.0\n",
      "NewExist             0.0\n",
      "CreateJob            0.0\n",
      "RetainedJob          0.0\n",
      "FranchiseCode        0.0\n",
      "UrbanRural           0.0\n",
      "RevLineCr            0.0\n",
      "DisbursementGross    0.0\n",
      "BalanceGross         0.0\n",
      "MIS_Status           0.0\n",
      "ChgOffPrinGr         0.0\n",
      "GrAppv               0.0\n",
      "SBA_Appv             0.0\n",
      "dtype: float64\n"
     ]
    }
   ],
   "source": [
    "# Drop missing values in object columns\n",
    "df_clean.dropna(inplace=True)\n",
    "\n",
    "# Check the percentage of missing values in each column\n",
    "missing_percentage = df_clean.isnull().sum() / len(df_clean) * 100\n",
    "\n",
    "# Display the missing percentage for each column\n",
    "print(\"Percentage of Missing Values in Each Column:\")\n",
    "print(missing_percentage)"
   ]
  },
  {
   "cell_type": "markdown",
   "id": "791be8ae",
   "metadata": {},
   "source": [
    "We have successfully addressed all missing values in the dataset, rendering it clean and prepared for Exploratory Data Analysis (EDA)."
   ]
  },
  {
   "cell_type": "code",
   "execution_count": 56,
   "id": "fe399b56",
   "metadata": {},
   "outputs": [
    {
     "data": {
      "text/plain": [
       "(836136, 23)"
      ]
     },
     "execution_count": 56,
     "metadata": {},
     "output_type": "execute_result"
    }
   ],
   "source": [
    "# Let's check the dimensions of the cleaned dataframe after handling missing values\n",
    "\n",
    "df_clean.shape"
   ]
  },
  {
   "cell_type": "markdown",
   "id": "ad2bacf2",
   "metadata": {},
   "source": [
    "## Feature Handling Strategies to Mitigate Data Leakage <a class=\"anchor\" id=\"features\"></a>"
   ]
  },
  {
   "cell_type": "markdown",
   "id": "e3bf4007",
   "metadata": {},
   "source": [
    "#### Post-Loan Features: Managing Data After Loan Approval"
   ]
  },
  {
   "cell_type": "markdown",
   "id": "506d3062",
   "metadata": {},
   "source": [
    "After a thorough examination of the remaining dataset columns, we have identified the following post-loan features that should be omitted. These features pertain to events occurring after the loans have been disbursed:\n",
    "\n",
    "1. LoanNr_ChkDgt\n",
    "2. ApprovalDate\n",
    "3. ApprovalFY\n",
    "4. Term\n",
    "5. CreateJob\n",
    "6. RetainedJob\n",
    "7. ChgOffDate (Previously dropped)\n",
    "8. DisbursementDate (Previously dropped)\n",
    "9. DisbursementGross\n",
    "10. BalanceGross\n",
    "11. ChgOffPrinGr\n",
    "12. GrAppv"
   ]
  },
  {
   "cell_type": "code",
   "execution_count": 57,
   "id": "2b3cfb8d",
   "metadata": {},
   "outputs": [],
   "source": [
    "# List of columns to drop\n",
    "columns_to_drop = [\n",
    "    'LoanNr_ChkDgt', 'ApprovalDate', 'ApprovalFY', 'Term', 'CreateJob',\n",
    "    'RetainedJob', 'DisbursementGross',\n",
    "    'BalanceGross', 'ChgOffPrinGr', 'GrAppv'\n",
    "]\n",
    "\n",
    "# Drop the columns from the DataFrame\n",
    "df_clean.drop(columns=columns_to_drop, inplace=True)"
   ]
  },
  {
   "cell_type": "markdown",
   "id": "1a9fb2d0",
   "metadata": {},
   "source": [
    "We removed these columns from the dataset for the following reasons:\n",
    "\n",
    "1. **LoanNr_ChkDgt**: This column contains loan numbers or identifiers, which don't really help us predict loan defaults. They're more for record-keeping.\n",
    "\n",
    "2. **ApprovalDate** and **ApprovalFY**: These columns provide information about when a loan was approved. However, this timing isn't directly relevant to predicting loan defaults, as loan approval decisions are typically made before the actual loan is granted.\n",
    "\n",
    "3. **Term**: The term of the loan, which indicates the repayment period, isn't a significant factor in predicting loan defaults. It's more related to the loan's structure.\n",
    "\n",
    "4. **CreateJob** and **RetainedJob**: These columns show the number of jobs created or retained due to a loan. While this is important information for other purposes, it's not directly linked to predicting loan defaults.\n",
    "\n",
    "7. **ChgOffDate** and **DisbursementDate** (previously dropped): These dates are associated with specific loan events, like charge-offs and disbursements, which occur after a loan has already defaulted. Including them in predictions would reveal information about the outcome, leading to data leakage.\n",
    "\n",
    "8. **DisbursementGross**: This column represents the loan disbursement amount, and its relevance to predicting loan defaults may be limited or highly correlated with other variables.\n",
    "\n",
    "9. **BalanceGross**: The remaining loan balance doesn't help predict defaults, and including it could lead to data leakage if it reflects the loan's performance.\n",
    "\n",
    "10. **ChgOffPrinGr**: This is the charged-off principal amount resulting from loan defaults. Including it would introduce data leakage, as it's a consequence of the event we're trying to predict.\n",
    "\n",
    "11. **GrAppv**: The gross amount approved might not be a strong predictor for loan defaults, or it could be highly correlated with other approved amounts.\n",
    "\n",
    "Overall, these columns were dropped to avoid data leakage and concentrate on the most relevant features for predicting loan defaults."
   ]
  },
  {
   "cell_type": "code",
   "execution_count": 58,
   "id": "68a24002",
   "metadata": {},
   "outputs": [
    {
     "data": {
      "text/plain": [
       "(836136, 13)"
      ]
     },
     "execution_count": 58,
     "metadata": {},
     "output_type": "execute_result"
    }
   ],
   "source": [
    "# Verify the DataFrame's dimensions following the removal of post-loan features\n",
    "df_clean.shape"
   ]
  },
  {
   "cell_type": "code",
   "execution_count": 59,
   "id": "e381a7af",
   "metadata": {},
   "outputs": [
    {
     "name": "stdout",
     "output_type": "stream",
     "text": [
      "To ensure data integrity and prevent data leakage, we removed the post-loan features, resulting in a remaining dataset with 836136 rows and 13 columns.\n"
     ]
    }
   ],
   "source": [
    "print(f'To ensure data integrity and prevent data leakage, we removed the post-loan features, resulting in a remaining dataset with {df_clean.shape[0]} rows and {df_clean.shape[1]} columns.')"
   ]
  },
  {
   "cell_type": "code",
   "execution_count": 60,
   "id": "a66b02ab",
   "metadata": {},
   "outputs": [
    {
     "data": {
      "text/plain": [
       "['Name',\n",
       " 'City',\n",
       " 'State',\n",
       " 'Bank',\n",
       " 'BankState',\n",
       " 'NAICS',\n",
       " 'NoEmp',\n",
       " 'NewExist',\n",
       " 'FranchiseCode',\n",
       " 'UrbanRural',\n",
       " 'RevLineCr',\n",
       " 'MIS_Status',\n",
       " 'SBA_Appv']"
      ]
     },
     "execution_count": 60,
     "metadata": {},
     "output_type": "execute_result"
    }
   ],
   "source": [
    "# Display the names of the remaining columns in the cleaned dataset\n",
    "df_clean.columns.tolist()"
   ]
  },
  {
   "cell_type": "code",
   "execution_count": 61,
   "id": "7ab9d454",
   "metadata": {},
   "outputs": [
    {
     "data": {
      "text/html": [
       "<div>\n",
       "<style scoped>\n",
       "    .dataframe tbody tr th:only-of-type {\n",
       "        vertical-align: middle;\n",
       "    }\n",
       "\n",
       "    .dataframe tbody tr th {\n",
       "        vertical-align: top;\n",
       "    }\n",
       "\n",
       "    .dataframe thead th {\n",
       "        text-align: right;\n",
       "    }\n",
       "</style>\n",
       "<table border=\"1\" class=\"dataframe\">\n",
       "  <thead>\n",
       "    <tr style=\"text-align: right;\">\n",
       "      <th></th>\n",
       "      <th>Name</th>\n",
       "      <th>City</th>\n",
       "      <th>State</th>\n",
       "      <th>Bank</th>\n",
       "      <th>BankState</th>\n",
       "      <th>NAICS</th>\n",
       "      <th>NoEmp</th>\n",
       "      <th>NewExist</th>\n",
       "      <th>FranchiseCode</th>\n",
       "      <th>UrbanRural</th>\n",
       "      <th>RevLineCr</th>\n",
       "      <th>MIS_Status</th>\n",
       "      <th>SBA_Appv</th>\n",
       "    </tr>\n",
       "  </thead>\n",
       "  <tbody>\n",
       "    <tr>\n",
       "      <th>0</th>\n",
       "      <td>ABC HOBBYCRAFT</td>\n",
       "      <td>EVANSVILLE</td>\n",
       "      <td>IN</td>\n",
       "      <td>FIFTH THIRD BANK</td>\n",
       "      <td>OH</td>\n",
       "      <td>451120</td>\n",
       "      <td>4</td>\n",
       "      <td>2.0</td>\n",
       "      <td>1</td>\n",
       "      <td>0</td>\n",
       "      <td>N</td>\n",
       "      <td>Paid</td>\n",
       "      <td>48000.0</td>\n",
       "    </tr>\n",
       "    <tr>\n",
       "      <th>1</th>\n",
       "      <td>LANDMARK BAR &amp; GRILLE (THE)</td>\n",
       "      <td>NEW PARIS</td>\n",
       "      <td>IN</td>\n",
       "      <td>1ST SOURCE BANK</td>\n",
       "      <td>IN</td>\n",
       "      <td>722410</td>\n",
       "      <td>2</td>\n",
       "      <td>2.0</td>\n",
       "      <td>1</td>\n",
       "      <td>0</td>\n",
       "      <td>N</td>\n",
       "      <td>Paid</td>\n",
       "      <td>32000.0</td>\n",
       "    </tr>\n",
       "    <tr>\n",
       "      <th>2</th>\n",
       "      <td>WHITLOCK DDS, TODD M.</td>\n",
       "      <td>BLOOMINGTON</td>\n",
       "      <td>IN</td>\n",
       "      <td>GRANT COUNTY STATE BANK</td>\n",
       "      <td>IN</td>\n",
       "      <td>621210</td>\n",
       "      <td>7</td>\n",
       "      <td>1.0</td>\n",
       "      <td>1</td>\n",
       "      <td>0</td>\n",
       "      <td>N</td>\n",
       "      <td>Paid</td>\n",
       "      <td>215250.0</td>\n",
       "    </tr>\n",
       "    <tr>\n",
       "      <th>3</th>\n",
       "      <td>BIG BUCKS PAWN &amp; JEWELRY, LLC</td>\n",
       "      <td>BROKEN ARROW</td>\n",
       "      <td>OK</td>\n",
       "      <td>1ST NATL BK &amp; TR CO OF BROKEN</td>\n",
       "      <td>OK</td>\n",
       "      <td>0</td>\n",
       "      <td>2</td>\n",
       "      <td>1.0</td>\n",
       "      <td>1</td>\n",
       "      <td>0</td>\n",
       "      <td>N</td>\n",
       "      <td>Paid</td>\n",
       "      <td>28000.0</td>\n",
       "    </tr>\n",
       "    <tr>\n",
       "      <th>4</th>\n",
       "      <td>ANASTASIA CONFECTIONS, INC.</td>\n",
       "      <td>ORLANDO</td>\n",
       "      <td>FL</td>\n",
       "      <td>FLORIDA BUS. DEVEL CORP</td>\n",
       "      <td>FL</td>\n",
       "      <td>0</td>\n",
       "      <td>14</td>\n",
       "      <td>1.0</td>\n",
       "      <td>1</td>\n",
       "      <td>0</td>\n",
       "      <td>N</td>\n",
       "      <td>Paid</td>\n",
       "      <td>229000.0</td>\n",
       "    </tr>\n",
       "  </tbody>\n",
       "</table>\n",
       "</div>"
      ],
      "text/plain": [
       "                            Name          City State  \\\n",
       "0                 ABC HOBBYCRAFT    EVANSVILLE    IN   \n",
       "1    LANDMARK BAR & GRILLE (THE)     NEW PARIS    IN   \n",
       "2          WHITLOCK DDS, TODD M.   BLOOMINGTON    IN   \n",
       "3  BIG BUCKS PAWN & JEWELRY, LLC  BROKEN ARROW    OK   \n",
       "4    ANASTASIA CONFECTIONS, INC.       ORLANDO    FL   \n",
       "\n",
       "                            Bank BankState   NAICS  NoEmp  NewExist  \\\n",
       "0               FIFTH THIRD BANK        OH  451120      4       2.0   \n",
       "1                1ST SOURCE BANK        IN  722410      2       2.0   \n",
       "2        GRANT COUNTY STATE BANK        IN  621210      7       1.0   \n",
       "3  1ST NATL BK & TR CO OF BROKEN        OK       0      2       1.0   \n",
       "4        FLORIDA BUS. DEVEL CORP        FL       0     14       1.0   \n",
       "\n",
       "  FranchiseCode  UrbanRural RevLineCr MIS_Status  SBA_Appv  \n",
       "0             1           0         N       Paid   48000.0  \n",
       "1             1           0         N       Paid   32000.0  \n",
       "2             1           0         N       Paid  215250.0  \n",
       "3             1           0         N       Paid   28000.0  \n",
       "4             1           0         N       Paid  229000.0  "
      ]
     },
     "execution_count": 61,
     "metadata": {},
     "output_type": "execute_result"
    }
   ],
   "source": [
    "# Show a sample of the data\n",
    "df_clean.head()"
   ]
  },
  {
   "cell_type": "markdown",
   "id": "38ae715e",
   "metadata": {},
   "source": [
    "### Duplicated Data"
   ]
  },
  {
   "cell_type": "code",
   "execution_count": 62,
   "id": "fd4df453",
   "metadata": {},
   "outputs": [
    {
     "data": {
      "text/plain": [
       "896"
      ]
     },
     "execution_count": 62,
     "metadata": {},
     "output_type": "execute_result"
    }
   ],
   "source": [
    "df_clean.duplicated().sum()"
   ]
  },
  {
   "cell_type": "markdown",
   "id": "e5ad946e",
   "metadata": {},
   "source": [
    "We are dropping duplicates in the dataset because multiple entries of the same information exist. These duplicates provide no additional value and can skew analysis results, making it essential to maintain a clean and accurate dataset for meaningful insights."
   ]
  },
  {
   "cell_type": "code",
   "execution_count": 63,
   "id": "5e74bcfe",
   "metadata": {},
   "outputs": [],
   "source": [
    "# Drop duplicate rows from the DataFrame\n",
    "df_clean = df_clean.drop_duplicates()"
   ]
  },
  {
   "cell_type": "code",
   "execution_count": 64,
   "id": "46d368eb",
   "metadata": {},
   "outputs": [
    {
     "data": {
      "text/plain": [
       "0"
      ]
     },
     "execution_count": 64,
     "metadata": {},
     "output_type": "execute_result"
    }
   ],
   "source": [
    "# Check for duplicates\n",
    "\n",
    "df_clean.duplicated().sum()"
   ]
  },
  {
   "cell_type": "markdown",
   "id": "7b20cce7",
   "metadata": {},
   "source": [
    "Data cleaning is complete. Let's now save this cleaned dataset for future use."
   ]
  },
  {
   "cell_type": "markdown",
   "id": "a7058082",
   "metadata": {},
   "source": [
    "## Saving the data <a class=\"anchor\" id=\"saving\"></a>\n",
    "\n",
    "Now that we have spent the time cleaning this dataset, we are going to save it for future use. We will be using our cleaned dataset to carry out some exploratory work to learn more about the dataset!"
   ]
  },
  {
   "cell_type": "code",
   "execution_count": 65,
   "id": "45b81ebb",
   "metadata": {},
   "outputs": [],
   "source": [
    "# Save the cleaned data to a csv file for future use\n",
    "\n",
    "df_clean.to_csv('Cleaned_Loan_Data.csv', index=False)"
   ]
  }
 ],
 "metadata": {
  "kernelspec": {
   "display_name": "basicpythonkernel",
   "language": "python",
   "name": "basicpythonkernel"
  },
  "language_info": {
   "codemirror_mode": {
    "name": "ipython",
    "version": 3
   },
   "file_extension": ".py",
   "mimetype": "text/x-python",
   "name": "python",
   "nbconvert_exporter": "python",
   "pygments_lexer": "ipython3",
   "version": "3.9.18"
  }
 },
 "nbformat": 4,
 "nbformat_minor": 5
}
